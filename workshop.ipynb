{
 "cells": [
  {
   "cell_type": "markdown",
   "id": "f8d1e317",
   "metadata": {},
   "source": [
    "## Scaling Weaviate - Live Workshop"
   ]
  },
  {
   "cell_type": "markdown",
   "id": "90116d44",
   "metadata": {},
   "source": [
    "Follow README.md for initial setup steps."
   ]
  },
  {
   "cell_type": "code",
   "execution_count": null,
   "id": "c296fac7",
   "metadata": {},
   "outputs": [],
   "source": [
    "!docker-compose up -d"
   ]
  },
  {
   "cell_type": "code",
   "execution_count": null,
   "id": "5e364ad5",
   "metadata": {},
   "outputs": [],
   "source": [
    "import weaviate\n",
    "import os\n",
    "\n",
    "COLLECTION_NAME = \"SupportChat\"\n",
    "\n",
    "# Connect to Weaviate\n",
    "client = weaviate.connect_to_local(\n",
    "    port=8080,\n",
    "    headers={\n",
    "        # Pass inference provider keys as required (we are using Cohere today)\n",
    "        \"X-COHERE-API-KEY\": os.environ[\"COHERE_API_KEY\"],\n",
    "    },\n",
    ")"
   ]
  },
  {
   "cell_type": "code",
   "execution_count": null,
   "id": "fc5ea1d0",
   "metadata": {},
   "outputs": [],
   "source": [
    "# Delete existing collection if it exists\n",
    "client.collections.delete(COLLECTION_NAME)"
   ]
  },
  {
   "cell_type": "markdown",
   "id": "af69b1ce",
   "metadata": {},
   "source": [
    "Take a look at the app - it should load, but it will not work properly, as the collection does not exist yet."
   ]
  },
  {
   "cell_type": "code",
   "execution_count": null,
   "id": "6ae50ef7",
   "metadata": {},
   "outputs": [],
   "source": [
    "from weaviate.classes.config import Property, DataType, Configure\n",
    "\n",
    "client.collections.create(\n",
    "    name=COLLECTION_NAME,\n",
    "    properties=[\n",
    "        Property(name=\"text\", data_type=DataType.TEXT),\n",
    "        Property(name=\"dialogue_id\", data_type=DataType.INT),\n",
    "        Property(name=\"company_author\", data_type=DataType.TEXT),\n",
    "        Property(name=\"created_at\", data_type=DataType.DATE),\n",
    "    ],\n",
    "    vectorizer_config=[\n",
    "        Configure.NamedVectors.text2vec_cohere(\n",
    "            name=\"text_with_metadata\",\n",
    "            source_properties=[\"text\", \"company_author\"],\n",
    "            vector_index_config=Configure.VectorIndex.hnsw(),\n",
    "            model=\"embed-multilingual-light-v3.0\"\n",
    "        ),\n",
    "    ],\n",
    "    generative_config=Configure.Generative.cohere(model=\"command-r\"),\n",
    ")"
   ]
  },
  {
   "cell_type": "code",
   "execution_count": null,
   "id": "2dfa8336",
   "metadata": {},
   "outputs": [],
   "source": [
    "assert client.collections.exists(COLLECTION_NAME)"
   ]
  },
  {
   "cell_type": "markdown",
   "id": "1043738a",
   "metadata": {},
   "source": [
    "Now, if you take a look at the app again - you'll see the outline. But there is no data in the collection yet, so the app will not display any items.\n",
    "\n",
    "Let's add some data to the collection."
   ]
  },
  {
   "cell_type": "code",
   "execution_count": null,
   "id": "5fb23366",
   "metadata": {},
   "outputs": [],
   "source": [
    "import h5py\n",
    "import json\n",
    "import numpy as np\n",
    "\n",
    "# Arbitrary tenant names to sub-divide our dataset\n",
    "tenant_names = [\"AcmeCo\", \"Globex\", \"Initech\", \"UmbrellaCorp\", \"WayneEnterprises\"]\n",
    "\n",
    "\n",
    "def get_support_data(file_path):\n",
    "    \"\"\"\n",
    "    Args:\n",
    "        file_path (str): Path to the HDF5 file\n",
    "\n",
    "    Yields:\n",
    "        dict: Dictionary with 'uuid', 'properties' and 'vector' keys\n",
    "    \"\"\"\n",
    "\n",
    "    with h5py.File(file_path, \"r\") as hf:\n",
    "        for uuid in hf.keys():\n",
    "            group = hf[uuid]\n",
    "\n",
    "            # Get the object properties\n",
    "            properties = json.loads(group[\"object\"][()])\n",
    "\n",
    "            # Arbitrarily assign tenant to data\n",
    "            tenant_index = len(properties['company_author']) % 5\n",
    "            tenant = tenant_names[tenant_index]\n",
    "\n",
    "            # Get the vector(s) - handle multiple vectors if they exist\n",
    "            vectors = {}\n",
    "            for key in group.keys():\n",
    "                if key.startswith(\"vector_\"):\n",
    "                    vector_name = key.split(\"_\", 1)[1]\n",
    "                    vectors[vector_name] = np.asarray(group[key])\n",
    "\n",
    "            yield {\n",
    "                \"uuid\": uuid,\n",
    "                \"properties\": properties,\n",
    "                \"tenant\": tenant,\n",
    "                \"vector\": {\"text_with_metadata\": vectors[\"text_with_metadata\"]}\n",
    "            }"
   ]
  },
  {
   "cell_type": "code",
   "execution_count": null,
   "id": "2a6e414b",
   "metadata": {},
   "outputs": [],
   "source": [
    "from tqdm import tqdm\n",
    "\n",
    "file_path = \"data/twitter_customer_support.h5\"\n",
    "\n",
    "chats = client.collections.get(COLLECTION_NAME)\n",
    "\n",
    "with chats.batch.fixed_size(batch_size=200) as batch:\n",
    "    for item in tqdm(get_support_data(file_path), desc=\"Importing to Weaviate\"):\n",
    "        batch.add_object(\n",
    "            uuid=item[\"uuid\"],\n",
    "            properties=item[\"properties\"],\n",
    "            vector=item[\"vector\"]\n",
    "        )\n",
    "\n",
    "print(f\"🎉 Import completed! {len(chats)} objects imported.\")\n",
    "\n",
    "# Handle any errors\n",
    "if len(chats.batch.failed_objects) > 0:\n",
    "    print(\"⚠️  Some objects failed to import:\")\n",
    "    print(f\"   Failed: {len(chats.batch.failed_objects)} objects\")\n",
    "    print(\"   First few errors:\", chats.batch.failed_objects[:3])\n",
    "else:\n",
    "    print(\"✅ All objects imported successfully!\")"
   ]
  },
  {
   "cell_type": "markdown",
   "id": "22a70f27",
   "metadata": {},
   "source": [
    "Search examples"
   ]
  },
  {
   "cell_type": "markdown",
   "id": "43004254",
   "metadata": {},
   "source": []
  },
  {
   "cell_type": "code",
   "execution_count": null,
   "id": "66559469",
   "metadata": {},
   "outputs": [],
   "source": [
    "response = chats.query.near_text(\n",
    "    query=\"Problem with delivery\",\n",
    "    limit=3\n",
    ")\n",
    "\n",
    "for o in response.objects:\n",
    "    print(f\"\\n\\nDialogID {o.properties['dialogue_id']} with Company: {o.properties['company_author']}\")\n",
    "    print(\"=\" * 50)\n",
    "    print(o.properties[\"text\"][:500])"
   ]
  },
  {
   "cell_type": "code",
   "execution_count": null,
   "id": "01436b7b",
   "metadata": {},
   "outputs": [],
   "source": [
    "from weaviate.classes.query import Filter\n",
    "\n",
    "response = chats.query.near_text(\n",
    "    query=\"Delay compensation\",\n",
    "    limit=3,\n",
    "    # filters=Filter.by_property(\"company_author\").like(\"*Air*\")\n",
    "    filters=Filter.by_property(\"company_author\").equal(\"Uber_Support\")\n",
    ")\n",
    "\n",
    "for o in response.objects:\n",
    "    print(f\"\\n\\nDialogID {o.properties['dialogue_id']} with Company: {o.properties['company_author']}\")\n",
    "    print(\"=\" * 50)\n",
    "    print(o.properties[\"text\"][:500])"
   ]
  },
  {
   "cell_type": "markdown",
   "id": "bb36a65f",
   "metadata": {},
   "source": [
    "Check the app again! It should now be working properly - try a few searches and RAG queries."
   ]
  },
  {
   "cell_type": "markdown",
   "id": "7ba712ea",
   "metadata": {},
   "source": [
    "How can we scale this solution?\n",
    "- What options do we have to manage the memory footprint? \n",
    "- What if we want to isolate the data for end users?\n",
    "- Can we scale out with Weaviate?"
   ]
  },
  {
   "cell_type": "markdown",
   "id": "366287c2",
   "metadata": {},
   "source": [
    "## Quantization"
   ]
  },
  {
   "cell_type": "markdown",
   "id": "3bd0ed61",
   "metadata": {},
   "source": [
    "Stop & restart Weaviate to reset memory footprint"
   ]
  },
  {
   "cell_type": "code",
   "execution_count": null,
   "id": "e00632e8",
   "metadata": {},
   "outputs": [],
   "source": [
    "!docker-compose down && docker-compose up -d"
   ]
  },
  {
   "cell_type": "code",
   "execution_count": null,
   "id": "c7c4f476",
   "metadata": {},
   "outputs": [],
   "source": [
    "# Delete existing collection if it exists\n",
    "client.collections.delete(COLLECTION_NAME)"
   ]
  },
  {
   "cell_type": "code",
   "execution_count": null,
   "id": "e1cae18a",
   "metadata": {},
   "outputs": [],
   "source": [
    "from weaviate.classes.config import Property, DataType, Configure\n",
    "\n",
    "client.collections.create(\n",
    "    name=COLLECTION_NAME,\n",
    "    properties=[\n",
    "        Property(name=\"text\", data_type=DataType.TEXT),\n",
    "        Property(name=\"dialogue_id\", data_type=DataType.INT),\n",
    "        Property(name=\"company_author\", data_type=DataType.TEXT),\n",
    "        Property(name=\"created_at\", data_type=DataType.DATE),\n",
    "    ],\n",
    "    vectorizer_config=[\n",
    "        Configure.NamedVectors.text2vec_cohere(\n",
    "            name=\"text_with_metadata\",\n",
    "            source_properties=[\"text\", \"company_author\"],\n",
    "            vector_index_config=Configure.VectorIndex.hnsw(\n",
    "                # Add quantization here\n",
    "            ),\n",
    "            model=\"embed-multilingual-light-v3.0\"\n",
    "        ),\n",
    "    ],\n",
    "    generative_config=Configure.Generative.cohere(model=\"command-r\"),\n",
    ")"
   ]
  },
  {
   "cell_type": "markdown",
   "id": "54c3a67a",
   "metadata": {},
   "source": [
    "Import data again"
   ]
  },
  {
   "cell_type": "code",
   "execution_count": null,
   "id": "c080d046",
   "metadata": {},
   "outputs": [],
   "source": []
  },
  {
   "cell_type": "markdown",
   "id": "126db781",
   "metadata": {},
   "source": [
    "Queries will run the same"
   ]
  },
  {
   "cell_type": "code",
   "execution_count": null,
   "id": "286f003b",
   "metadata": {},
   "outputs": [],
   "source": []
  },
  {
   "cell_type": "markdown",
   "id": "a8602105",
   "metadata": {},
   "source": [
    "But check the memory footprint!"
   ]
  },
  {
   "cell_type": "markdown",
   "id": "e232a1f8",
   "metadata": {},
   "source": [
    "## Vector index types"
   ]
  },
  {
   "cell_type": "code",
   "execution_count": null,
   "id": "e12db360",
   "metadata": {},
   "outputs": [],
   "source": [
    "!docker-compose down && docker-compose up -d"
   ]
  },
  {
   "cell_type": "code",
   "execution_count": null,
   "id": "5b34fa5d",
   "metadata": {},
   "outputs": [],
   "source": [
    "# Delete existing collection if it exists\n",
    "client.collections.delete(COLLECTION_NAME)"
   ]
  },
  {
   "cell_type": "markdown",
   "id": "4211f627",
   "metadata": {},
   "source": [
    "Review indexing options"
   ]
  },
  {
   "cell_type": "code",
   "execution_count": null,
   "id": "d5294568",
   "metadata": {},
   "outputs": [],
   "source": [
    "from weaviate.classes.config import Property, DataType, Configure\n",
    "\n",
    "client.collections.create(\n",
    "    name=COLLECTION_NAME,\n",
    "    properties=[\n",
    "        Property(name=\"text\", data_type=DataType.TEXT),\n",
    "        Property(name=\"dialogue_id\", data_type=DataType.INT),\n",
    "        Property(name=\"company_author\", data_type=DataType.TEXT),\n",
    "        Property(name=\"created_at\", data_type=DataType.DATE),\n",
    "    ],\n",
    "    vectorizer_config=[\n",
    "        Configure.NamedVectors.text2vec_cohere(\n",
    "            name=\"text_with_metadata\",\n",
    "            source_properties=[\"text\", \"company_author\"],\n",
    "            # Try different index types\n",
    "            vector_index_config=Configure.VectorIndex.hnsw(),\n",
    "            model=\"embed-multilingual-light-v3.0\"\n",
    "        ),\n",
    "    ],\n",
    "    generative_config=Configure.Generative.cohere(model=\"command-r\"),\n",
    ")"
   ]
  },
  {
   "cell_type": "code",
   "execution_count": null,
   "id": "199f1a8f",
   "metadata": {},
   "outputs": [],
   "source": []
  },
  {
   "cell_type": "code",
   "execution_count": null,
   "id": "d40083e1",
   "metadata": {},
   "outputs": [],
   "source": []
  },
  {
   "cell_type": "markdown",
   "id": "9a8ce5b1",
   "metadata": {},
   "source": [
    "When to choose different indexing types?"
   ]
  },
  {
   "cell_type": "markdown",
   "id": "fea2e9f9",
   "metadata": {},
   "source": [
    "## Multi-tenancy"
   ]
  },
  {
   "cell_type": "code",
   "execution_count": null,
   "id": "0bffe8ad",
   "metadata": {},
   "outputs": [],
   "source": [
    "# Delete existing collection if it exists\n",
    "client.collections.delete(COLLECTION_NAME)"
   ]
  },
  {
   "cell_type": "code",
   "execution_count": null,
   "id": "56912a56",
   "metadata": {},
   "outputs": [],
   "source": [
    "from weaviate.classes.config import Property, DataType, Configure\n",
    "\n",
    "client.collections.create(\n",
    "    name=COLLECTION_NAME,\n",
    "    properties=[\n",
    "        Property(name=\"text\", data_type=DataType.TEXT),\n",
    "        Property(name=\"dialogue_id\", data_type=DataType.INT),\n",
    "        Property(name=\"company_author\", data_type=DataType.TEXT),\n",
    "        Property(name=\"created_at\", data_type=DataType.DATE),\n",
    "    ],\n",
    "    vectorizer_config=[\n",
    "        Configure.NamedVectors.text2vec_cohere(\n",
    "            name=\"text_with_metadata\",\n",
    "            source_properties=[\"text\", \"company_author\"],\n",
    "            vector_index_config=Configure.VectorIndex.hnsw(),\n",
    "            model=\"embed-multilingual-light-v3.0\"\n",
    "        ),\n",
    "    ],\n",
    "    generative_config=Configure.Generative.cohere(model=\"command-r\"),\n",
    "    # Set up multi-tenancy\n",
    ")"
   ]
  },
  {
   "cell_type": "code",
   "execution_count": null,
   "id": "d4c1ea6c",
   "metadata": {},
   "outputs": [],
   "source": [
    "from tqdm import tqdm\n",
    "\n",
    "file_path = \"data/twitter_customer_support.h5\"\n",
    "\n",
    "# Notice using `client` here not collection `chats`\n",
    "with client.batch.fixed_size(batch_size=200) as batch:\n",
    "    for item in tqdm(get_support_data(file_path), desc=\"Importing to Weaviate\"):\n",
    "        batch.add_object(\n",
    "            uuid=item[\"uuid\"],\n",
    "            properties=item[\"properties\"],\n",
    "            vector=item[\"vector\"],\n",
    "            # Add collection name\n",
    "            # Add tenant\n",
    "        )\n",
    "\n",
    "# Handle any errors - note using client again\n",
    "if len(client.batch.failed_objects) > 0:\n",
    "    print(\"⚠️  Some objects failed to import:\")\n",
    "    print(f\"   Failed: {len(client.batch.failed_objects)} objects\")\n",
    "    print(\"   First few errors:\", client.batch.failed_objects[:3])\n",
    "else:\n",
    "    print(\"✅ All objects imported successfully!\")"
   ]
  },
  {
   "cell_type": "markdown",
   "id": "8b8c609a",
   "metadata": {},
   "source": [
    "Search examples with multi-tenancy"
   ]
  },
  {
   "cell_type": "code",
   "execution_count": null,
   "id": "48c93d38",
   "metadata": {},
   "outputs": [],
   "source": [
    "# Try the same query"
   ]
  },
  {
   "cell_type": "code",
   "execution_count": null,
   "id": "e08fd916",
   "metadata": {},
   "outputs": [],
   "source": [
    "# Try again"
   ]
  },
  {
   "cell_type": "code",
   "execution_count": null,
   "id": "fb7181d3",
   "metadata": {},
   "outputs": [],
   "source": []
  },
  {
   "cell_type": "markdown",
   "id": "c8f16530",
   "metadata": {},
   "source": [
    "## Multi-node example"
   ]
  },
  {
   "cell_type": "code",
   "execution_count": null,
   "id": "c7172ba6",
   "metadata": {},
   "outputs": [],
   "source": [
    "!docker-compose down && docker compose -f docker-compose-three-nodes.yml up -d"
   ]
  },
  {
   "cell_type": "code",
   "execution_count": null,
   "id": "799e39f1",
   "metadata": {},
   "outputs": [],
   "source": [
    "import weaviate\n",
    "import os\n",
    "\n",
    "COLLECTION_NAME = \"SupportChat\"\n",
    "\n",
    "# Connect to Weaviate\n",
    "client = weaviate.connect_to_local(\n",
    "    port=8080,\n",
    "    headers={\n",
    "        # Pass inference provider keys as required (we are using Cohere today)\n",
    "        \"X-COHERE-API-KEY\": os.environ[\"COHERE_API_KEY\"],\n",
    "    },\n",
    ")"
   ]
  },
  {
   "cell_type": "code",
   "execution_count": null,
   "id": "6cacd547",
   "metadata": {},
   "outputs": [],
   "source": [
    "# Delete existing collection if it exists\n",
    "client.collections.delete(COLLECTION_NAME)"
   ]
  },
  {
   "cell_type": "code",
   "execution_count": null,
   "id": "1728fa94",
   "metadata": {},
   "outputs": [],
   "source": []
  },
  {
   "cell_type": "code",
   "execution_count": null,
   "id": "451cd3f4",
   "metadata": {},
   "outputs": [],
   "source": []
  },
  {
   "cell_type": "markdown",
   "id": "95b6f68a",
   "metadata": {},
   "source": [
    "## Replication setup"
   ]
  },
  {
   "cell_type": "code",
   "execution_count": null,
   "id": "ede3a57e",
   "metadata": {},
   "outputs": [],
   "source": [
    "# Delete existing collection if it exists\n",
    "client.collections.delete(COLLECTION_NAME)"
   ]
  },
  {
   "cell_type": "code",
   "execution_count": null,
   "id": "bf6422c0",
   "metadata": {},
   "outputs": [],
   "source": []
  },
  {
   "cell_type": "code",
   "execution_count": null,
   "id": "8811c27b",
   "metadata": {},
   "outputs": [],
   "source": []
  },
  {
   "cell_type": "markdown",
   "id": "70f48280",
   "metadata": {},
   "source": []
  }
 ],
 "metadata": {
  "kernelspec": {
   "display_name": ".venv",
   "language": "python",
   "name": "python3"
  },
  "language_info": {
   "codemirror_mode": {
    "name": "ipython",
    "version": 3
   },
   "file_extension": ".py",
   "mimetype": "text/x-python",
   "name": "python",
   "nbconvert_exporter": "python",
   "pygments_lexer": "ipython3",
   "version": "3.11.9"
  }
 },
 "nbformat": 4,
 "nbformat_minor": 5
}
