{
 "cells": [
  {
   "cell_type": "markdown",
   "id": "f8d1e317",
   "metadata": {},
   "source": [
    "## Scaling Weaviate - Live Workshop"
   ]
  },
  {
   "cell_type": "markdown",
   "id": "90116d44",
   "metadata": {},
   "source": [
    "Follow README.md for initial setup steps."
   ]
  },
  {
   "cell_type": "code",
   "execution_count": 1,
   "id": "c296fac7",
   "metadata": {},
   "outputs": [
    {
     "name": "stdout",
     "output_type": "stream",
     "text": [
      "\u001b[1A\u001b[1B\u001b[0G\u001b[?25l[+] Running 2/0\n",
      " \u001b[32m✔\u001b[0m Network scalable-rag-workshop_default                 \u001b[32mCreated\u001b[0m           \u001b[34m0.0s \u001b[0m\n",
      " \u001b[32m✔\u001b[0m Volume \"scalable-rag-workshop_scalable_rag_workshop\"  \u001b[32mCreated\u001b[0m           \u001b[34m0.0s \u001b[0m\n",
      " \u001b[33m⠋\u001b[0m Container scalable-rag-workshop-weaviate_anon-1       Starting          \u001b[34m0.1s \u001b[0m\n",
      "\u001b[?25h\u001b[1A\u001b[1A\u001b[1A\u001b[1A\u001b[0G\u001b[?25l[+] Running 2/3\n",
      " \u001b[32m✔\u001b[0m Network scalable-rag-workshop_default                 \u001b[32mCreated\u001b[0m           \u001b[34m0.0s \u001b[0m\n",
      " \u001b[32m✔\u001b[0m Volume \"scalable-rag-workshop_scalable_rag_workshop\"  \u001b[32mCreated\u001b[0m           \u001b[34m0.0s \u001b[0m\n",
      " \u001b[33m⠙\u001b[0m Container scalable-rag-workshop-weaviate_anon-1       Starting          \u001b[34m0.2s \u001b[0m\n",
      "\u001b[?25h\u001b[1A\u001b[1A\u001b[1A\u001b[1A\u001b[0G\u001b[?25l\u001b[34m[+] Running 3/3\u001b[0m\n",
      " \u001b[32m✔\u001b[0m Network scalable-rag-workshop_default                 \u001b[32mCreated\u001b[0m           \u001b[34m0.0s \u001b[0m\n",
      " \u001b[32m✔\u001b[0m Volume \"scalable-rag-workshop_scalable_rag_workshop\"  \u001b[32mCreated\u001b[0m           \u001b[34m0.0s \u001b[0m\n",
      " \u001b[32m✔\u001b[0m Container scalable-rag-workshop-weaviate_anon-1       \u001b[32mStarted\u001b[0m           \u001b[34m0.2s \u001b[0m\n",
      "\u001b[?25h"
     ]
    }
   ],
   "source": [
    "!docker-compose up -d"
   ]
  },
  {
   "cell_type": "code",
   "execution_count": 2,
   "id": "5e364ad5",
   "metadata": {},
   "outputs": [],
   "source": [
    "import weaviate\n",
    "import os\n",
    "\n",
    "COLLECTION_NAME = \"SupportChat\"\n",
    "\n",
    "# Connect to Weaviate\n",
    "client = weaviate.connect_to_local(\n",
    "    port=8080,\n",
    "    headers={\n",
    "        # Pass inference provider keys as required (we are using Cohere today)\n",
    "        \"X-COHERE-API-KEY\": os.environ[\"COHERE_API_KEY\"],\n",
    "    },\n",
    ")"
   ]
  },
  {
   "cell_type": "code",
   "execution_count": 3,
   "id": "fc5ea1d0",
   "metadata": {},
   "outputs": [],
   "source": [
    "# Delete existing collection if it exists\n",
    "client.collections.delete(COLLECTION_NAME)"
   ]
  },
  {
   "cell_type": "markdown",
   "id": "af69b1ce",
   "metadata": {},
   "source": [
    "Take a look at the app - it should load, but it will not work properly, as the collection does not exist yet."
   ]
  },
  {
   "cell_type": "code",
   "execution_count": 4,
   "id": "6ae50ef7",
   "metadata": {},
   "outputs": [
    {
     "data": {
      "text/plain": [
       "<weaviate.collections.collection.sync.Collection at 0x1079811d0>"
      ]
     },
     "execution_count": 4,
     "metadata": {},
     "output_type": "execute_result"
    }
   ],
   "source": [
    "from weaviate.classes.config import Property, DataType, Configure\n",
    "\n",
    "client.collections.create(\n",
    "    name=COLLECTION_NAME,\n",
    "    properties=[\n",
    "        Property(name=\"text\", data_type=DataType.TEXT),\n",
    "        Property(name=\"dialogue_id\", data_type=DataType.INT),\n",
    "        Property(name=\"company_author\", data_type=DataType.TEXT),\n",
    "        Property(name=\"created_at\", data_type=DataType.DATE),\n",
    "    ],\n",
    "    vectorizer_config=[\n",
    "        Configure.NamedVectors.text2vec_cohere(\n",
    "            name=\"text_with_metadata\",\n",
    "            source_properties=[\"text\", \"company_author\"],\n",
    "            vector_index_config=Configure.VectorIndex.hnsw(),\n",
    "            model=\"embed-multilingual-light-v3.0\"\n",
    "        ),\n",
    "    ],\n",
    "    generative_config=Configure.Generative.cohere(model=\"command-r\"),\n",
    ")"
   ]
  },
  {
   "cell_type": "code",
   "execution_count": 5,
   "id": "2dfa8336",
   "metadata": {},
   "outputs": [],
   "source": [
    "assert client.collections.exists(COLLECTION_NAME)"
   ]
  },
  {
   "cell_type": "markdown",
   "id": "1043738a",
   "metadata": {},
   "source": [
    "Now, if you take a look at the app again - you'll see the outline. But there is no data in the collection yet, so the app will not display any items.\n",
    "\n",
    "Let's add some data to the collection."
   ]
  },
  {
   "cell_type": "code",
   "execution_count": 6,
   "id": "5fb23366",
   "metadata": {},
   "outputs": [],
   "source": [
    "import h5py\n",
    "import json\n",
    "import numpy as np\n",
    "\n",
    "# Arbitrary tenant names to sub-divide our dataset\n",
    "tenant_names = [\"AcmeCo\", \"Globex\", \"Initech\", \"UmbrellaCorp\", \"WayneEnterprises\"]\n",
    "\n",
    "\n",
    "def get_support_data(file_path):\n",
    "    \"\"\"\n",
    "    Args:\n",
    "        file_path (str): Path to the HDF5 file\n",
    "\n",
    "    Yields:\n",
    "        dict: Dictionary with 'uuid', 'properties' and 'vector' keys\n",
    "    \"\"\"\n",
    "\n",
    "    with h5py.File(file_path, \"r\") as hf:\n",
    "        for uuid in hf.keys():\n",
    "            group = hf[uuid]\n",
    "\n",
    "            # Get the object properties\n",
    "            properties = json.loads(group[\"object\"][()])\n",
    "\n",
    "            # Arbitrarily assign tenant to data\n",
    "            tenant_index = len(properties['company_author']) % 5\n",
    "            tenant = tenant_names[tenant_index]\n",
    "\n",
    "            # Get the vector(s) - handle multiple vectors if they exist\n",
    "            vectors = {}\n",
    "            for key in group.keys():\n",
    "                if key.startswith(\"vector_\"):\n",
    "                    vector_name = key.split(\"_\", 1)[1]\n",
    "                    vectors[vector_name] = np.asarray(group[key])\n",
    "\n",
    "            yield {\n",
    "                \"uuid\": uuid,\n",
    "                \"properties\": properties,\n",
    "                \"tenant\": tenant,\n",
    "                \"vector\": {\"text_with_metadata\": vectors[\"text_with_metadata\"]}\n",
    "            }"
   ]
  },
  {
   "cell_type": "code",
   "execution_count": 7,
   "id": "2a6e414b",
   "metadata": {},
   "outputs": [
    {
     "name": "stderr",
     "output_type": "stream",
     "text": [
      "Importing to Weaviate: 100000it [00:40, 2469.96it/s]"
     ]
    },
    {
     "name": "stdout",
     "output_type": "stream",
     "text": [
      "🎉 Import completed! 100000 objects imported.\n",
      "✅ All objects imported successfully!\n"
     ]
    },
    {
     "name": "stderr",
     "output_type": "stream",
     "text": [
      "\n"
     ]
    }
   ],
   "source": [
    "from tqdm import tqdm\n",
    "\n",
    "file_path = \"data/twitter_customer_support.h5\"\n",
    "\n",
    "chats = client.collections.get(COLLECTION_NAME)\n",
    "\n",
    "with chats.batch.fixed_size(batch_size=200) as batch:\n",
    "    for item in tqdm(get_support_data(file_path), desc=\"Importing to Weaviate\"):\n",
    "        batch.add_object(\n",
    "            uuid=item[\"uuid\"],\n",
    "            properties=item[\"properties\"],\n",
    "            vector=item[\"vector\"]\n",
    "        )\n",
    "\n",
    "print(f\"🎉 Import completed! {len(chats)} objects imported.\")\n",
    "\n",
    "# Handle any errors\n",
    "if len(chats.batch.failed_objects) > 0:\n",
    "    print(\"⚠️  Some objects failed to import:\")\n",
    "    print(f\"   Failed: {len(chats.batch.failed_objects)} objects\")\n",
    "    print(\"   First few errors:\", chats.batch.failed_objects[:3])\n",
    "else:\n",
    "    print(\"✅ All objects imported successfully!\")"
   ]
  },
  {
   "cell_type": "markdown",
   "id": "22a70f27",
   "metadata": {},
   "source": [
    "Search examples"
   ]
  },
  {
   "cell_type": "markdown",
   "id": "43004254",
   "metadata": {},
   "source": []
  },
  {
   "cell_type": "code",
   "execution_count": 8,
   "id": "66559469",
   "metadata": {},
   "outputs": [
    {
     "name": "stdout",
     "output_type": "stream",
     "text": [
      "\n",
      "\n",
      "DialogID 533243 with Company: AmazonHelp\n",
      "==================================================\n",
      "User_242734: your delivery driver that was bringing my package didn't even bother to knock on my door and then claimed delivery was unsuccessful, I spoke to someone on customer services who wasn't helpful, this has really annoyed me and I will be reviewing my account with Amazon.\n",
      "AmazonHelp: Hi Joe I am sorry to hear that! Have you received your delivery yet? ^HS\n",
      "User_242734: No I haven't and it is already 24 hours late.\n",
      "User_242734: I would understand if nobody was at my address but myself and \n",
      "\n",
      "\n",
      "DialogID 464283 with Company: AmazonHelp\n",
      "==================================================\n",
      "User_225395: After 3 online chat attempts, and several call centre reps, including a supervisor, I reached a logistics rep who says the delivery driver is doing sketchy things on his route, and I have yet to get my delivery. #badcustomerservice\n",
      "AmazonHelp: I'm so sorry for the frustration with this delivery. I'd like a member of our Social Media team to take a look into this. Please provide your details here: https://t.co/gmTuBIfTju. ^DG\n",
      "User_225395: I have screenshots too, and have replied to t\n",
      "\n",
      "\n",
      "DialogID 493347 with Company: AmazonHelp\n",
      "==================================================\n",
      "User_232615: Once again, your drivers can't deliver groceries. You have the ability to arrange a specific delivery time, people arrange their day around this and, once again, you can't access the building because your driver doesn't feel like pushing a buzzer.@136881 I'm coming\n",
      "AmazonHelp: I'm sorry for the recurring delivery issues. Have you contacted us via phone or chat: https://t.co/JzP7hlA23B? If so, what options did we provide? ^KB\n",
      "User_232615: I did; same thing every time. We didn't deliv\n"
     ]
    }
   ],
   "source": [
    "response = chats.query.near_text(\n",
    "    query=\"Problem with delivery\",\n",
    "    limit=3\n",
    ")\n",
    "\n",
    "for o in response.objects:\n",
    "    print(f\"\\n\\nDialogID {o.properties['dialogue_id']} with Company: {o.properties['company_author']}\")\n",
    "    print(\"=\" * 50)\n",
    "    print(o.properties[\"text\"][:500])"
   ]
  },
  {
   "cell_type": "code",
   "execution_count": 9,
   "id": "01436b7b",
   "metadata": {},
   "outputs": [
    {
     "name": "stdout",
     "output_type": "stream",
     "text": [
      "\n",
      "\n",
      "DialogID 258188 with Company: Uber_Support\n",
      "==================================================\n",
      "User_177416: Hey, I received a promo code last week as a form of compensation for a late delivery, but it didn't work when trying to redeem\n",
      "Uber_Support: Sorry to hear this, Thomas! Please go here https://t.co/lqVgKo4ZO3, so we can follow up.\n",
      "User_177416: These pages don't seem to refer to codes handed out as compensation. Is there any other way I can resolve the issue?\n",
      "Uber_Support: Hey, Thomas. The previous link will still work for your particular issue. However, feel free to DM us your email \n",
      "\n",
      "\n",
      "DialogID 83592 with Company: Uber_Support\n",
      "==================================================\n",
      "User_134360: if I’m waiting far longer for my driver then it suggests, why do I get charged for cancelling for their delay\n",
      "Uber_Support: We're here to help! Please send us a note via https://t.co/JyzdtQmyxT so we can connect.\n",
      "\n",
      "\n",
      "DialogID 473391 with Company: Uber_Support\n",
      "==================================================\n",
      "User_227717: @Uber_Support over an hour and only now it says there’s a slight delay? Will expect a full refund once my food arrives https://t.co/uZNx6IB2F6\n",
      "Uber_Support: Here to help! Send us a note here; https://t.co/jP6giifgNM and our team will be able to help.\n",
      "User_227717: They gave me a $10 credit for a $57 meal that went to waste 🙄\n",
      "Uber_Support: Sorry for the trouble! Please send us a DM with your email address with details so we can follow up.\n"
     ]
    }
   ],
   "source": [
    "from weaviate.classes.query import Filter\n",
    "\n",
    "response = chats.query.near_text(\n",
    "    query=\"Delay compensation\",\n",
    "    limit=3,\n",
    "    # filters=Filter.by_property(\"company_author\").like(\"*Air*\")\n",
    "    filters=Filter.by_property(\"company_author\").equal(\"Uber_Support\")\n",
    ")\n",
    "\n",
    "for o in response.objects:\n",
    "    print(f\"\\n\\nDialogID {o.properties['dialogue_id']} with Company: {o.properties['company_author']}\")\n",
    "    print(\"=\" * 50)\n",
    "    print(o.properties[\"text\"][:500])"
   ]
  },
  {
   "cell_type": "markdown",
   "id": "bb36a65f",
   "metadata": {},
   "source": [
    "Check the app again! It should now be working properly - try a few searches and RAG queries."
   ]
  },
  {
   "cell_type": "markdown",
   "id": "7ba712ea",
   "metadata": {},
   "source": [
    "How can we scale this solution?\n",
    "- What options do we have to manage the memory footprint? \n",
    "- What if we want to isolate the data for end users?\n",
    "- Can we scale out with Weaviate?"
   ]
  },
  {
   "cell_type": "markdown",
   "id": "366287c2",
   "metadata": {},
   "source": [
    "## Quantization"
   ]
  },
  {
   "cell_type": "markdown",
   "id": "3bd0ed61",
   "metadata": {},
   "source": [
    "Stop & restart Weaviate to reset memory footprint"
   ]
  },
  {
   "cell_type": "code",
   "execution_count": 10,
   "id": "e00632e8",
   "metadata": {},
   "outputs": [
    {
     "name": "stdout",
     "output_type": "stream",
     "text": [
      "\u001b[1A\u001b[1B\u001b[0G\u001b[?25l[+] Running 0/0\n",
      " \u001b[33m⠋\u001b[0m Container scalable-rag-workshop-weaviate_anon-1  Stopping               \u001b[34m0.1s \u001b[0m\n",
      "\u001b[?25h\u001b[1A\u001b[1A\u001b[0G\u001b[?25l[+] Running 0/1\n",
      " \u001b[33m⠙\u001b[0m Container scalable-rag-workshop-weaviate_anon-1  Stopping               \u001b[34m0.2s \u001b[0m\n",
      "\u001b[?25h\u001b[1A\u001b[1A\u001b[0G\u001b[?25l[+] Running 0/1\n",
      " \u001b[33m⠹\u001b[0m Container scalable-rag-workshop-weaviate_anon-1  Stopping               \u001b[34m0.3s \u001b[0m\n",
      "\u001b[?25h\u001b[1A\u001b[1A\u001b[0G\u001b[?25l[+] Running 0/1\n",
      " \u001b[33m⠸\u001b[0m Container scalable-rag-workshop-weaviate_anon-1  Stopping               \u001b[34m0.4s \u001b[0m\n",
      "\u001b[?25h\u001b[1A\u001b[1A\u001b[0G\u001b[?25l[+] Running 0/1\n",
      " \u001b[33m⠼\u001b[0m Container scalable-rag-workshop-weaviate_anon-1  Stopping               \u001b[34m0.5s \u001b[0m\n",
      "\u001b[?25h\u001b[1A\u001b[1A\u001b[0G\u001b[?25l[+] Running 0/1\n",
      " \u001b[33m⠴\u001b[0m Container scalable-rag-workshop-weaviate_anon-1  Stopping               \u001b[34m0.6s \u001b[0m\n",
      "\u001b[?25h\u001b[1A\u001b[1A\u001b[0G\u001b[?25l[+] Running 0/1\n",
      " \u001b[33m⠦\u001b[0m Container scalable-rag-workshop-weaviate_anon-1  Stopping               \u001b[34m0.7s \u001b[0m\n",
      "\u001b[?25h\u001b[1A\u001b[1A\u001b[0G\u001b[?25l[+] Running 0/1\n",
      " \u001b[33m⠧\u001b[0m Container scalable-rag-workshop-weaviate_anon-1  Stopping               \u001b[34m0.8s \u001b[0m\n",
      "\u001b[?25h\u001b[1A\u001b[1A\u001b[0G\u001b[?25l[+] Running 0/1\n",
      " \u001b[33m⠇\u001b[0m Container scalable-rag-workshop-weaviate_anon-1  Stopping               \u001b[34m0.9s \u001b[0m\n",
      "\u001b[?25h\u001b[1A\u001b[1A\u001b[0G\u001b[?25l[+] Running 0/1\n",
      " \u001b[33m⠏\u001b[0m Container scalable-rag-workshop-weaviate_anon-1  Stopping               \u001b[34m1.0s \u001b[0m\n",
      "\u001b[?25h\u001b[1A\u001b[1A\u001b[0G\u001b[?25l[+] Running 0/1\n",
      " \u001b[33m⠋\u001b[0m Container scalable-rag-workshop-weaviate_anon-1  Stopping               \u001b[34m1.1s \u001b[0m\n",
      "\u001b[?25h\u001b[1A\u001b[1A\u001b[0G\u001b[?25l[+] Running 0/1\n",
      " \u001b[33m⠙\u001b[0m Container scalable-rag-workshop-weaviate_anon-1  Stopping               \u001b[34m1.2s \u001b[0m\n",
      "\u001b[?25h\u001b[1A\u001b[1A\u001b[0G\u001b[?25l[+] Running 0/1\n",
      " \u001b[33m⠹\u001b[0m Container scalable-rag-workshop-weaviate_anon-1  Stopping               \u001b[34m1.3s \u001b[0m\n",
      "\u001b[?25h\u001b[1A\u001b[1A\u001b[0G\u001b[?25l[+] Running 0/1\n",
      " \u001b[33m⠸\u001b[0m Container scalable-rag-workshop-weaviate_anon-1  Stopping               \u001b[34m1.4s \u001b[0m\n",
      "\u001b[?25h\u001b[1A\u001b[1A\u001b[0G\u001b[?25l[+] Running 0/1\n",
      " \u001b[33m⠼\u001b[0m Container scalable-rag-workshop-weaviate_anon-1  Stopping               \u001b[34m1.5s \u001b[0m\n",
      "\u001b[?25h\u001b[1A\u001b[1A\u001b[0G\u001b[?25l[+] Running 0/1\n",
      " \u001b[33m⠴\u001b[0m Container scalable-rag-workshop-weaviate_anon-1  Stopping               \u001b[34m1.6s \u001b[0m\n",
      "\u001b[?25h\u001b[1A\u001b[1A\u001b[0G\u001b[?25l[+] Running 0/1\n",
      " \u001b[33m⠦\u001b[0m Container scalable-rag-workshop-weaviate_anon-1  Stopping               \u001b[34m1.7s \u001b[0m\n",
      "\u001b[?25h\u001b[1A\u001b[1A\u001b[0G\u001b[?25l[+] Running 0/1\n",
      " \u001b[33m⠧\u001b[0m Container scalable-rag-workshop-weaviate_anon-1  Stopping               \u001b[34m1.8s \u001b[0m\n",
      "\u001b[?25h\u001b[1A\u001b[1A\u001b[0G\u001b[?25l[+] Running 0/1\n",
      " \u001b[33m⠇\u001b[0m Container scalable-rag-workshop-weaviate_anon-1  Stopping               \u001b[34m1.9s \u001b[0m\n",
      "\u001b[?25h\u001b[1A\u001b[1A\u001b[0G\u001b[?25l[+] Running 0/1\n",
      " \u001b[33m⠏\u001b[0m Container scalable-rag-workshop-weaviate_anon-1  Stopping               \u001b[34m2.0s \u001b[0m\n",
      "\u001b[?25h\u001b[1A\u001b[1A\u001b[0G\u001b[?25l[+] Running 0/1\n",
      " \u001b[33m⠋\u001b[0m Container scalable-rag-workshop-weaviate_anon-1  Stopping               \u001b[34m2.1s \u001b[0m\n",
      "\u001b[?25h\u001b[1A\u001b[1A\u001b[0G\u001b[?25l[+] Running 0/1\n",
      " \u001b[33m⠙\u001b[0m Container scalable-rag-workshop-weaviate_anon-1  Stopping               \u001b[34m2.2s \u001b[0m\n",
      "\u001b[?25h\u001b[1A\u001b[1A\u001b[0G\u001b[?25l[+] Running 0/1\n",
      " \u001b[33m⠹\u001b[0m Container scalable-rag-workshop-weaviate_anon-1  Stopping               \u001b[34m2.3s \u001b[0m\n",
      "\u001b[?25h\u001b[1A\u001b[1A\u001b[0G\u001b[?25l[+] Running 0/1\n",
      " \u001b[33m⠸\u001b[0m Container scalable-rag-workshop-weaviate_anon-1  Stopping               \u001b[34m2.4s \u001b[0m\n",
      "\u001b[?25h\u001b[1A\u001b[1A\u001b[0G\u001b[?25l[+] Running 0/1\n",
      " \u001b[33m⠼\u001b[0m Container scalable-rag-workshop-weaviate_anon-1  Stopping               \u001b[34m2.5s \u001b[0m\n",
      "\u001b[?25h\u001b[1A\u001b[1A\u001b[0G\u001b[?25l[+] Running 0/1\n",
      " \u001b[33m⠴\u001b[0m Container scalable-rag-workshop-weaviate_anon-1  Stopping               \u001b[34m2.6s \u001b[0m\n",
      "\u001b[?25h\u001b[1A\u001b[1A\u001b[0G\u001b[?25l[+] Running 0/1\n",
      " \u001b[33m⠦\u001b[0m Container scalable-rag-workshop-weaviate_anon-1  Stopping               \u001b[34m2.7s \u001b[0m\n",
      "\u001b[?25h\u001b[1A\u001b[1A\u001b[0G\u001b[?25l[+] Running 0/1\n",
      " \u001b[33m⠧\u001b[0m Container scalable-rag-workshop-weaviate_anon-1  Stopping               \u001b[34m2.8s \u001b[0m\n",
      "\u001b[?25h\u001b[1A\u001b[1A\u001b[0G\u001b[?25l[+] Running 0/1\n",
      " \u001b[33m⠇\u001b[0m Container scalable-rag-workshop-weaviate_anon-1  Stopping               \u001b[34m2.9s \u001b[0m\n",
      "\u001b[?25h\u001b[1A\u001b[1A\u001b[0G\u001b[?25l[+] Running 0/1\n",
      " \u001b[33m⠏\u001b[0m Container scalable-rag-workshop-weaviate_anon-1  Stopping               \u001b[34m3.0s \u001b[0m\n",
      "\u001b[?25h\u001b[1A\u001b[1A\u001b[0G\u001b[?25l[+] Running 0/1\n",
      " \u001b[33m⠋\u001b[0m Container scalable-rag-workshop-weaviate_anon-1  Stopping               \u001b[34m3.1s \u001b[0m\n",
      "\u001b[?25h\u001b[1A\u001b[1A\u001b[0G\u001b[?25l[+] Running 0/1\n",
      " \u001b[33m⠙\u001b[0m Container scalable-rag-workshop-weaviate_anon-1  Stopping               \u001b[34m3.2s \u001b[0m\n",
      "\u001b[?25h\u001b[1A\u001b[1A\u001b[0G\u001b[?25l[+] Running 0/1\n",
      " \u001b[33m⠹\u001b[0m Container scalable-rag-workshop-weaviate_anon-1  Stopping               \u001b[34m3.3s \u001b[0m\n",
      "\u001b[?25h\u001b[1A\u001b[1A\u001b[0G\u001b[?25l[+] Running 0/1\n",
      " \u001b[33m⠸\u001b[0m Container scalable-rag-workshop-weaviate_anon-1  Stopping               \u001b[34m3.4s \u001b[0m\n",
      "\u001b[?25h\u001b[1A\u001b[1A\u001b[0G\u001b[?25l[+] Running 0/1\n",
      " \u001b[33m⠼\u001b[0m Container scalable-rag-workshop-weaviate_anon-1  Stopping               \u001b[34m3.5s \u001b[0m\n",
      "\u001b[?25h\u001b[1A\u001b[1A\u001b[0G\u001b[?25l[+] Running 0/1\n",
      " \u001b[33m⠴\u001b[0m Container scalable-rag-workshop-weaviate_anon-1  Stopping               \u001b[34m3.6s \u001b[0m\n",
      "\u001b[?25h\u001b[1A\u001b[1A\u001b[0G\u001b[?25l[+] Running 0/1\n",
      " \u001b[33m⠦\u001b[0m Container scalable-rag-workshop-weaviate_anon-1  Stopping               \u001b[34m3.7s \u001b[0m\n",
      "\u001b[?25h\u001b[1A\u001b[1A\u001b[0G\u001b[?25l[+] Running 0/1\n",
      " \u001b[33m⠧\u001b[0m Container scalable-rag-workshop-weaviate_anon-1  Stopping               \u001b[34m3.8s \u001b[0m\n",
      "\u001b[?25h\u001b[1A\u001b[1A\u001b[0G\u001b[?25l[+] Running 0/1\n",
      " \u001b[33m⠇\u001b[0m Container scalable-rag-workshop-weaviate_anon-1  Stopping               \u001b[34m3.9s \u001b[0m\n",
      "\u001b[?25h\u001b[1A\u001b[1A\u001b[0G\u001b[?25l[+] Running 0/1\n",
      " \u001b[33m⠏\u001b[0m Container scalable-rag-workshop-weaviate_anon-1  Stopping               \u001b[34m4.0s \u001b[0m\n",
      "\u001b[?25h\u001b[1A\u001b[1A\u001b[0G\u001b[?25l[+] Running 0/1\n",
      " \u001b[33m⠋\u001b[0m Container scalable-rag-workshop-weaviate_anon-1  Stopping               \u001b[34m4.1s \u001b[0m\n",
      "\u001b[?25h\u001b[1A\u001b[1A\u001b[0G\u001b[?25l[+] Running 0/1\n",
      " \u001b[33m⠙\u001b[0m Container scalable-rag-workshop-weaviate_anon-1  Stopping               \u001b[34m4.2s \u001b[0m\n",
      "\u001b[?25h\u001b[1A\u001b[1A\u001b[0G\u001b[?25l[+] Running 0/1\n",
      " \u001b[33m⠹\u001b[0m Container scalable-rag-workshop-weaviate_anon-1  Stopping               \u001b[34m4.3s \u001b[0m\n",
      "\u001b[?25h\u001b[1A\u001b[1A\u001b[0G\u001b[?25l[+] Running 0/1\n",
      " \u001b[33m⠸\u001b[0m Container scalable-rag-workshop-weaviate_anon-1  Stopping               \u001b[34m4.4s \u001b[0m\n",
      "\u001b[?25h\u001b[1A\u001b[1A\u001b[0G\u001b[?25l[+] Running 0/1\n",
      " \u001b[33m⠼\u001b[0m Container scalable-rag-workshop-weaviate_anon-1  Stopping               \u001b[34m4.5s \u001b[0m\n",
      "\u001b[?25h\u001b[1A\u001b[1A\u001b[0G\u001b[?25l[+] Running 0/1\n",
      " \u001b[33m⠴\u001b[0m Container scalable-rag-workshop-weaviate_anon-1  Stopping               \u001b[34m4.6s \u001b[0m\n",
      "\u001b[?25h\u001b[1A\u001b[1A\u001b[0G\u001b[?25l[+] Running 0/1\n",
      " \u001b[33m⠦\u001b[0m Container scalable-rag-workshop-weaviate_anon-1  Stopping               \u001b[34m4.7s \u001b[0m\n",
      "\u001b[?25h\u001b[1A\u001b[1A\u001b[0G\u001b[?25l[+] Running 0/1\n",
      " \u001b[33m⠧\u001b[0m Container scalable-rag-workshop-weaviate_anon-1  Stopping               \u001b[34m4.8s \u001b[0m\n",
      "\u001b[?25h\u001b[1A\u001b[1A\u001b[0G\u001b[?25l[+] Running 0/1\n",
      " \u001b[33m⠇\u001b[0m Container scalable-rag-workshop-weaviate_anon-1  Stopping               \u001b[34m4.9s \u001b[0m\n",
      "\u001b[?25h\u001b[1A\u001b[1A\u001b[0G\u001b[?25l[+] Running 0/1\n",
      " \u001b[33m⠏\u001b[0m Container scalable-rag-workshop-weaviate_anon-1  Stopping               \u001b[34m5.0s \u001b[0m\n",
      "\u001b[?25h\u001b[1A\u001b[1A\u001b[0G\u001b[?25l[+] Running 0/1\n",
      " \u001b[33m⠋\u001b[0m Container scalable-rag-workshop-weaviate_anon-1  Stopping               \u001b[34m5.1s \u001b[0m\n",
      "\u001b[?25h\u001b[1A\u001b[1A\u001b[0G\u001b[?25l[+] Running 0/1\n",
      " \u001b[33m⠙\u001b[0m Container scalable-rag-workshop-weaviate_anon-1  Stopping               \u001b[34m5.2s \u001b[0m\n",
      "\u001b[?25h\u001b[1A\u001b[1A\u001b[0G\u001b[?25l[+] Running 0/1\n",
      " \u001b[33m⠹\u001b[0m Container scalable-rag-workshop-weaviate_anon-1  Stopping               \u001b[34m5.3s \u001b[0m\n",
      "\u001b[?25h\u001b[1A\u001b[1A\u001b[0G\u001b[?25l[+] Running 0/1\n",
      " \u001b[33m⠸\u001b[0m Container scalable-rag-workshop-weaviate_anon-1  Stopping               \u001b[34m5.4s \u001b[0m\n",
      "\u001b[?25h\u001b[1A\u001b[1A\u001b[0G\u001b[?25l[+] Running 0/1\n",
      " \u001b[33m⠼\u001b[0m Container scalable-rag-workshop-weaviate_anon-1  Stopping               \u001b[34m5.5s \u001b[0m\n",
      "\u001b[?25h\u001b[1A\u001b[1A\u001b[0G\u001b[?25l[+] Running 0/1\n",
      " \u001b[33m⠴\u001b[0m Container scalable-rag-workshop-weaviate_anon-1  Stopping               \u001b[34m5.6s \u001b[0m\n",
      "\u001b[?25h\u001b[1A\u001b[1A\u001b[0G\u001b[?25l[+] Running 0/1\n",
      " \u001b[33m⠦\u001b[0m Container scalable-rag-workshop-weaviate_anon-1  Stopping               \u001b[34m5.7s \u001b[0m\n",
      "\u001b[?25h\u001b[1A\u001b[1A\u001b[0G\u001b[?25l[+] Running 0/1\n",
      " \u001b[33m⠧\u001b[0m Container scalable-rag-workshop-weaviate_anon-1  Stopping               \u001b[34m5.8s \u001b[0m\n",
      "\u001b[?25h\u001b[1A\u001b[1A\u001b[0G\u001b[?25l[+] Running 0/1\n",
      " \u001b[33m⠇\u001b[0m Container scalable-rag-workshop-weaviate_anon-1  Stopping               \u001b[34m5.9s \u001b[0m\n",
      "\u001b[?25h\u001b[1A\u001b[1A\u001b[0G\u001b[?25l[+] Running 0/1\n",
      " \u001b[33m⠏\u001b[0m Container scalable-rag-workshop-weaviate_anon-1  Stopping               \u001b[34m6.0s \u001b[0m\n",
      "\u001b[?25h\u001b[1A\u001b[1A\u001b[0G\u001b[?25l[+] Running 0/1\n",
      " \u001b[33m⠋\u001b[0m Container scalable-rag-workshop-weaviate_anon-1  Stopping               \u001b[34m6.1s \u001b[0m\n",
      "\u001b[?25h\u001b[1A\u001b[1A\u001b[0G\u001b[?25l[+] Running 0/1\n",
      " \u001b[33m⠙\u001b[0m Container scalable-rag-workshop-weaviate_anon-1  Stopping               \u001b[34m6.2s \u001b[0m\n",
      "\u001b[?25h\u001b[1A\u001b[1A\u001b[0G\u001b[?25l[+] Running 0/1\n",
      " \u001b[33m⠹\u001b[0m Container scalable-rag-workshop-weaviate_anon-1  Stopping               \u001b[34m6.3s \u001b[0m\n",
      "\u001b[?25h\u001b[1A\u001b[1A\u001b[0G\u001b[?25l[+] Running 0/1\n",
      " \u001b[33m⠸\u001b[0m Container scalable-rag-workshop-weaviate_anon-1  Stopping               \u001b[34m6.4s \u001b[0m\n",
      "\u001b[?25h\u001b[1A\u001b[1A\u001b[0G\u001b[?25l[+] Running 0/1\n",
      " \u001b[33m⠼\u001b[0m Container scalable-rag-workshop-weaviate_anon-1  Stopping               \u001b[34m6.5s \u001b[0m\n",
      "\u001b[?25h\u001b[1A\u001b[1A\u001b[0G\u001b[?25l[+] Running 0/1\n",
      " \u001b[33m⠴\u001b[0m Container scalable-rag-workshop-weaviate_anon-1  Stopping               \u001b[34m6.6s \u001b[0m\n",
      "\u001b[?25h\u001b[1A\u001b[1A\u001b[0G\u001b[?25l[+] Running 0/1\n",
      " \u001b[33m⠦\u001b[0m Container scalable-rag-workshop-weaviate_anon-1  Stopping               \u001b[34m6.7s \u001b[0m\n",
      "\u001b[?25h\u001b[1A\u001b[1A\u001b[0G\u001b[?25l[+] Running 0/1\n",
      " \u001b[33m⠧\u001b[0m Container scalable-rag-workshop-weaviate_anon-1  Stopping               \u001b[34m6.8s \u001b[0m\n",
      "\u001b[?25h\u001b[1A\u001b[1A\u001b[0G\u001b[?25l[+] Running 0/1\n",
      " \u001b[33m⠇\u001b[0m Container scalable-rag-workshop-weaviate_anon-1  Stopping               \u001b[34m6.9s \u001b[0m\n",
      "\u001b[?25h\u001b[1A\u001b[1A\u001b[0G\u001b[?25l[+] Running 0/1\n",
      " \u001b[33m⠏\u001b[0m Container scalable-rag-workshop-weaviate_anon-1  Stopping               \u001b[34m7.0s \u001b[0m\n",
      "\u001b[?25h\u001b[1A\u001b[1A\u001b[0G\u001b[?25l[+] Running 0/1\n",
      " \u001b[33m⠋\u001b[0m Container scalable-rag-workshop-weaviate_anon-1  Stopping               \u001b[34m7.1s \u001b[0m\n",
      "\u001b[?25h\u001b[1A\u001b[1A\u001b[0G\u001b[?25l[+] Running 0/1\n",
      " \u001b[33m⠙\u001b[0m Container scalable-rag-workshop-weaviate_anon-1  Stopping               \u001b[34m7.2s \u001b[0m\n",
      "\u001b[?25h\u001b[1A\u001b[1A\u001b[0G\u001b[?25l[+] Running 0/1\n",
      " \u001b[33m⠹\u001b[0m Container scalable-rag-workshop-weaviate_anon-1  Stopping               \u001b[34m7.3s \u001b[0m\n",
      "\u001b[?25h\u001b[1A\u001b[1A\u001b[0G\u001b[?25l\u001b[34m[+] Running 1/1\u001b[0m\n",
      " \u001b[32m✔\u001b[0m Container scalable-rag-workshop-weaviate_anon-1  \u001b[32mRemoved\u001b[0m                \u001b[34m7.3s \u001b[0m\n",
      " \u001b[33m⠋\u001b[0m Network scalable-rag-workshop_default            Removing               \u001b[34m0.1s \u001b[0m\n",
      "\u001b[?25h\u001b[1A\u001b[1A\u001b[1A\u001b[0G\u001b[?25l\u001b[34m[+] Running 2/2\u001b[0m\n",
      " \u001b[32m✔\u001b[0m Container scalable-rag-workshop-weaviate_anon-1  \u001b[32mRemoved\u001b[0m                \u001b[34m7.3s \u001b[0m\n",
      " \u001b[32m✔\u001b[0m Network scalable-rag-workshop_default            \u001b[32mRemoved\u001b[0m                \u001b[34m0.1s \u001b[0m\n",
      "\u001b[?25h\u001b[1A\u001b[1B\u001b[0G\u001b[?25l[+] Running 1/0\n",
      " \u001b[32m✔\u001b[0m Network scalable-rag-workshop_default            \u001b[32mCreated\u001b[0m                \u001b[34m0.0s \u001b[0m\n",
      " \u001b[33m⠋\u001b[0m Container scalable-rag-workshop-weaviate_anon-1  Starting               \u001b[34m0.1s \u001b[0m\n",
      "\u001b[?25h\u001b[1A\u001b[1A\u001b[1A\u001b[0G\u001b[?25l[+] Running 1/2\n",
      " \u001b[32m✔\u001b[0m Network scalable-rag-workshop_default            \u001b[32mCreated\u001b[0m                \u001b[34m0.0s \u001b[0m\n",
      " \u001b[33m⠙\u001b[0m Container scalable-rag-workshop-weaviate_anon-1  Starting               \u001b[34m0.2s \u001b[0m\n",
      "\u001b[?25h\u001b[1A\u001b[1A\u001b[1A\u001b[0G\u001b[?25l\u001b[34m[+] Running 2/2\u001b[0m\n",
      " \u001b[32m✔\u001b[0m Network scalable-rag-workshop_default            \u001b[32mCreated\u001b[0m                \u001b[34m0.0s \u001b[0m\n",
      " \u001b[32m✔\u001b[0m Container scalable-rag-workshop-weaviate_anon-1  \u001b[32mStarted\u001b[0m                \u001b[34m0.2s \u001b[0m\n",
      "\u001b[?25h"
     ]
    }
   ],
   "source": [
    "!docker-compose down && docker-compose up -d"
   ]
  },
  {
   "cell_type": "code",
   "execution_count": 11,
   "id": "c7c4f476",
   "metadata": {},
   "outputs": [],
   "source": [
    "# Delete existing collection if it exists\n",
    "client.collections.delete(COLLECTION_NAME)"
   ]
  },
  {
   "cell_type": "code",
   "execution_count": 12,
   "id": "e1cae18a",
   "metadata": {},
   "outputs": [
    {
     "data": {
      "text/plain": [
       "<weaviate.collections.collection.sync.Collection at 0x13c23fa10>"
      ]
     },
     "execution_count": 12,
     "metadata": {},
     "output_type": "execute_result"
    }
   ],
   "source": [
    "from weaviate.classes.config import Property, DataType, Configure\n",
    "\n",
    "client.collections.create(\n",
    "    name=COLLECTION_NAME,\n",
    "    properties=[\n",
    "        Property(name=\"text\", data_type=DataType.TEXT),\n",
    "        Property(name=\"dialogue_id\", data_type=DataType.INT),\n",
    "        Property(name=\"company_author\", data_type=DataType.TEXT),\n",
    "        Property(name=\"created_at\", data_type=DataType.DATE),\n",
    "    ],\n",
    "    vectorizer_config=[\n",
    "        Configure.NamedVectors.text2vec_cohere(\n",
    "            name=\"text_with_metadata\",\n",
    "            source_properties=[\"text\", \"company_author\"],\n",
    "            # Quantization here\n",
    "            vector_index_config=Configure.VectorIndex.hnsw(\n",
    "                quantizer=Configure.VectorIndex.Quantizer.bq()\n",
    "            ),\n",
    "            model=\"embed-multilingual-light-v3.0\"\n",
    "        ),\n",
    "    ],\n",
    "    generative_config=Configure.Generative.cohere(model=\"command-r\"),\n",
    ")"
   ]
  },
  {
   "cell_type": "markdown",
   "id": "54c3a67a",
   "metadata": {},
   "source": [
    "Import data again"
   ]
  },
  {
   "cell_type": "code",
   "execution_count": 13,
   "id": "c080d046",
   "metadata": {},
   "outputs": [
    {
     "name": "stderr",
     "output_type": "stream",
     "text": [
      "Importing to Weaviate: 100000it [00:36, 2720.25it/s]"
     ]
    },
    {
     "name": "stdout",
     "output_type": "stream",
     "text": [
      "🎉 Import completed! 100000 objects imported.\n",
      "✅ All objects imported successfully!\n"
     ]
    },
    {
     "name": "stderr",
     "output_type": "stream",
     "text": [
      "\n"
     ]
    }
   ],
   "source": [
    "from tqdm import tqdm\n",
    "\n",
    "file_path = \"data/twitter_customer_support.h5\"\n",
    "\n",
    "chats = client.collections.get(COLLECTION_NAME)\n",
    "\n",
    "with chats.batch.fixed_size(batch_size=200) as batch:\n",
    "    for item in tqdm(get_support_data(file_path), desc=\"Importing to Weaviate\"):\n",
    "        batch.add_object(\n",
    "            uuid=item[\"uuid\"],\n",
    "            properties=item[\"properties\"],\n",
    "            vector=item[\"vector\"]\n",
    "        )\n",
    "\n",
    "print(f\"🎉 Import completed! {len(chats)} objects imported.\")\n",
    "\n",
    "# Handle any errors\n",
    "if len(chats.batch.failed_objects) > 0:\n",
    "    print(\"⚠️  Some objects failed to import:\")\n",
    "    print(f\"   Failed: {len(chats.batch.failed_objects)} objects\")\n",
    "    print(\"   First few errors:\", chats.batch.failed_objects[:3])\n",
    "else:\n",
    "    print(\"✅ All objects imported successfully!\")"
   ]
  },
  {
   "cell_type": "markdown",
   "id": "126db781",
   "metadata": {},
   "source": [
    "Queries will run the same"
   ]
  },
  {
   "cell_type": "code",
   "execution_count": 14,
   "id": "286f003b",
   "metadata": {},
   "outputs": [
    {
     "name": "stdout",
     "output_type": "stream",
     "text": [
      "\n",
      "\n",
      "DialogID 464283 with Company: AmazonHelp\n",
      "==================================================\n",
      "User_225395: After 3 online chat attempts, and several call centre reps, including a supervisor, I reached a logistics rep who says the delivery driver is doing sketchy things on his route, and I have yet to get my delivery. #badcustomerservice\n",
      "AmazonHelp: I'm so sorry for the frustration with this delivery. I'd like a member of our Social Media team to take a look into this. Please provide your details here: https://t.co/gmTuBIfTju. ^DG\n",
      "User_225395: I have screenshots too, and have replied to t\n",
      "\n",
      "\n",
      "DialogID 493347 with Company: AmazonHelp\n",
      "==================================================\n",
      "User_232615: Once again, your drivers can't deliver groceries. You have the ability to arrange a specific delivery time, people arrange their day around this and, once again, you can't access the building because your driver doesn't feel like pushing a buzzer.@136881 I'm coming\n",
      "AmazonHelp: I'm sorry for the recurring delivery issues. Have you contacted us via phone or chat: https://t.co/JzP7hlA23B? If so, what options did we provide? ^KB\n",
      "User_232615: I did; same thing every time. We didn't deliv\n",
      "\n",
      "\n",
      "DialogID 480349 with Company: AmazonHelp\n",
      "==================================================\n",
      "User_165567: Delivery driver posted the \"We tried to deliver your package\" letter without actually trying to deliver the package!!! See him run away as well!!! Very poor.\n",
      "AmazonHelp: So sorry to hear about the incomplete delivery! Can you let us know if this parcel was handled by our delivery team or that of a third-party courier? ^GS\n",
      "User_165567: Couldn't say but can tell you details of the delivery via pm\n"
     ]
    }
   ],
   "source": [
    "response = chats.query.near_text(\n",
    "    query=\"Problem with delivery\",\n",
    "    limit=3\n",
    ")\n",
    "\n",
    "for o in response.objects:\n",
    "    print(f\"\\n\\nDialogID {o.properties['dialogue_id']} with Company: {o.properties['company_author']}\")\n",
    "    print(\"=\" * 50)\n",
    "    print(o.properties[\"text\"][:500])"
   ]
  },
  {
   "cell_type": "markdown",
   "id": "a8602105",
   "metadata": {},
   "source": [
    "But check the memory footprint!"
   ]
  },
  {
   "cell_type": "markdown",
   "id": "e232a1f8",
   "metadata": {},
   "source": [
    "## Vector index types"
   ]
  },
  {
   "cell_type": "code",
   "execution_count": 15,
   "id": "e12db360",
   "metadata": {},
   "outputs": [
    {
     "name": "stdout",
     "output_type": "stream",
     "text": [
      "\u001b[1A\u001b[1B\u001b[0G\u001b[?25l[+] Running 0/0\n",
      " \u001b[33m⠋\u001b[0m Container scalable-rag-workshop-weaviate_anon-1  Stopping               \u001b[34m0.1s \u001b[0m\n",
      "\u001b[?25h\u001b[1A\u001b[1A\u001b[0G\u001b[?25l[+] Running 0/1\n",
      " \u001b[33m⠙\u001b[0m Container scalable-rag-workshop-weaviate_anon-1  Stopping               \u001b[34m0.2s \u001b[0m\n",
      "\u001b[?25h\u001b[1A\u001b[1A\u001b[0G\u001b[?25l[+] Running 0/1\n",
      " \u001b[33m⠹\u001b[0m Container scalable-rag-workshop-weaviate_anon-1  Stopping               \u001b[34m0.3s \u001b[0m\n",
      "\u001b[?25h\u001b[1A\u001b[1A\u001b[0G\u001b[?25l[+] Running 0/1\n",
      " \u001b[33m⠸\u001b[0m Container scalable-rag-workshop-weaviate_anon-1  Stopping               \u001b[34m0.4s \u001b[0m\n",
      "\u001b[?25h\u001b[1A\u001b[1A\u001b[0G\u001b[?25l[+] Running 0/1\n",
      " \u001b[33m⠼\u001b[0m Container scalable-rag-workshop-weaviate_anon-1  Stopping               \u001b[34m0.5s \u001b[0m\n",
      "\u001b[?25h\u001b[1A\u001b[1A\u001b[0G\u001b[?25l[+] Running 0/1\n",
      " \u001b[33m⠴\u001b[0m Container scalable-rag-workshop-weaviate_anon-1  Stopping               \u001b[34m0.6s \u001b[0m\n",
      "\u001b[?25h\u001b[1A\u001b[1A\u001b[0G\u001b[?25l[+] Running 0/1\n",
      " \u001b[33m⠦\u001b[0m Container scalable-rag-workshop-weaviate_anon-1  Stopping               \u001b[34m0.7s \u001b[0m\n",
      "\u001b[?25h\u001b[1A\u001b[1A\u001b[0G\u001b[?25l[+] Running 0/1\n",
      " \u001b[33m⠧\u001b[0m Container scalable-rag-workshop-weaviate_anon-1  Stopping               \u001b[34m0.8s \u001b[0m\n",
      "\u001b[?25h\u001b[1A\u001b[1A\u001b[0G\u001b[?25l[+] Running 0/1\n",
      " \u001b[33m⠇\u001b[0m Container scalable-rag-workshop-weaviate_anon-1  Stopping               \u001b[34m0.9s \u001b[0m\n",
      "\u001b[?25h\u001b[1A\u001b[1A\u001b[0G\u001b[?25l[+] Running 0/1\n",
      " \u001b[33m⠏\u001b[0m Container scalable-rag-workshop-weaviate_anon-1  Stopping               \u001b[34m1.0s \u001b[0m\n",
      "\u001b[?25h\u001b[1A\u001b[1A\u001b[0G\u001b[?25l[+] Running 0/1\n",
      " \u001b[33m⠋\u001b[0m Container scalable-rag-workshop-weaviate_anon-1  Stopping               \u001b[34m1.1s \u001b[0m\n",
      "\u001b[?25h\u001b[1A\u001b[1A\u001b[0G\u001b[?25l[+] Running 0/1\n",
      " \u001b[33m⠙\u001b[0m Container scalable-rag-workshop-weaviate_anon-1  Stopping               \u001b[34m1.2s \u001b[0m\n",
      "\u001b[?25h\u001b[1A\u001b[1A\u001b[0G\u001b[?25l[+] Running 0/1\n",
      " \u001b[33m⠹\u001b[0m Container scalable-rag-workshop-weaviate_anon-1  Stopping               \u001b[34m1.3s \u001b[0m\n",
      "\u001b[?25h\u001b[1A\u001b[1A\u001b[0G\u001b[?25l[+] Running 0/1\n",
      " \u001b[33m⠸\u001b[0m Container scalable-rag-workshop-weaviate_anon-1  Stopping               \u001b[34m1.4s \u001b[0m\n",
      "\u001b[?25h\u001b[1A\u001b[1A\u001b[0G\u001b[?25l[+] Running 0/1\n",
      " \u001b[33m⠼\u001b[0m Container scalable-rag-workshop-weaviate_anon-1  Stopping               \u001b[34m1.5s \u001b[0m\n",
      "\u001b[?25h\u001b[1A\u001b[1A\u001b[0G\u001b[?25l[+] Running 0/1\n",
      " \u001b[33m⠴\u001b[0m Container scalable-rag-workshop-weaviate_anon-1  Stopping               \u001b[34m1.6s \u001b[0m\n",
      "\u001b[?25h\u001b[1A\u001b[1A\u001b[0G\u001b[?25l[+] Running 0/1\n",
      " \u001b[33m⠦\u001b[0m Container scalable-rag-workshop-weaviate_anon-1  Stopping               \u001b[34m1.7s \u001b[0m\n",
      "\u001b[?25h\u001b[1A\u001b[1A\u001b[0G\u001b[?25l[+] Running 0/1\n",
      " \u001b[33m⠧\u001b[0m Container scalable-rag-workshop-weaviate_anon-1  Stopping               \u001b[34m1.8s \u001b[0m\n",
      "\u001b[?25h\u001b[1A\u001b[1A\u001b[0G\u001b[?25l[+] Running 0/1\n",
      " \u001b[33m⠇\u001b[0m Container scalable-rag-workshop-weaviate_anon-1  Stopping               \u001b[34m1.9s \u001b[0m\n",
      "\u001b[?25h\u001b[1A\u001b[1A\u001b[0G\u001b[?25l[+] Running 0/1\n",
      " \u001b[33m⠏\u001b[0m Container scalable-rag-workshop-weaviate_anon-1  Stopping               \u001b[34m2.0s \u001b[0m\n",
      "\u001b[?25h\u001b[1A\u001b[1A\u001b[0G\u001b[?25l[+] Running 0/1\n",
      " \u001b[33m⠋\u001b[0m Container scalable-rag-workshop-weaviate_anon-1  Stopping               \u001b[34m2.1s \u001b[0m\n",
      "\u001b[?25h\u001b[1A\u001b[1A\u001b[0G\u001b[?25l[+] Running 0/1\n",
      " \u001b[33m⠙\u001b[0m Container scalable-rag-workshop-weaviate_anon-1  Stopping               \u001b[34m2.2s \u001b[0m\n",
      "\u001b[?25h\u001b[1A\u001b[1A\u001b[0G\u001b[?25l[+] Running 0/1\n",
      " \u001b[33m⠹\u001b[0m Container scalable-rag-workshop-weaviate_anon-1  Stopping               \u001b[34m2.3s \u001b[0m\n",
      "\u001b[?25h\u001b[1A\u001b[1A\u001b[0G\u001b[?25l[+] Running 0/1\n",
      " \u001b[33m⠸\u001b[0m Container scalable-rag-workshop-weaviate_anon-1  Stopping               \u001b[34m2.4s \u001b[0m\n",
      "\u001b[?25h\u001b[1A\u001b[1A\u001b[0G\u001b[?25l[+] Running 0/1\n",
      " \u001b[33m⠼\u001b[0m Container scalable-rag-workshop-weaviate_anon-1  Stopping               \u001b[34m2.5s \u001b[0m\n",
      "\u001b[?25h\u001b[1A\u001b[1A\u001b[0G\u001b[?25l[+] Running 0/1\n",
      " \u001b[33m⠴\u001b[0m Container scalable-rag-workshop-weaviate_anon-1  Stopping               \u001b[34m2.6s \u001b[0m\n",
      "\u001b[?25h\u001b[1A\u001b[1A\u001b[0G\u001b[?25l[+] Running 0/1\n",
      " \u001b[33m⠦\u001b[0m Container scalable-rag-workshop-weaviate_anon-1  Stopping               \u001b[34m2.7s \u001b[0m\n",
      "\u001b[?25h\u001b[1A\u001b[1A\u001b[0G\u001b[?25l[+] Running 0/1\n",
      " \u001b[33m⠧\u001b[0m Container scalable-rag-workshop-weaviate_anon-1  Stopping               \u001b[34m2.8s \u001b[0m\n",
      "\u001b[?25h\u001b[1A\u001b[1A\u001b[0G\u001b[?25l[+] Running 0/1\n",
      " \u001b[33m⠇\u001b[0m Container scalable-rag-workshop-weaviate_anon-1  Stopping               \u001b[34m2.9s \u001b[0m\n",
      "\u001b[?25h\u001b[1A\u001b[1A\u001b[0G\u001b[?25l[+] Running 0/1\n",
      " \u001b[33m⠏\u001b[0m Container scalable-rag-workshop-weaviate_anon-1  Stopping               \u001b[34m3.0s \u001b[0m\n",
      "\u001b[?25h\u001b[1A\u001b[1A\u001b[0G\u001b[?25l[+] Running 0/1\n",
      " \u001b[33m⠋\u001b[0m Container scalable-rag-workshop-weaviate_anon-1  Stopping               \u001b[34m3.1s \u001b[0m\n",
      "\u001b[?25h\u001b[1A\u001b[1A\u001b[0G\u001b[?25l[+] Running 0/1\n",
      " \u001b[33m⠙\u001b[0m Container scalable-rag-workshop-weaviate_anon-1  Stopping               \u001b[34m3.2s \u001b[0m\n",
      "\u001b[?25h\u001b[1A\u001b[1A\u001b[0G\u001b[?25l[+] Running 0/1\n",
      " \u001b[33m⠹\u001b[0m Container scalable-rag-workshop-weaviate_anon-1  Stopping               \u001b[34m3.3s \u001b[0m\n",
      "\u001b[?25h\u001b[1A\u001b[1A\u001b[0G\u001b[?25l[+] Running 0/1\n",
      " \u001b[33m⠸\u001b[0m Container scalable-rag-workshop-weaviate_anon-1  Stopping               \u001b[34m3.4s \u001b[0m\n",
      "\u001b[?25h\u001b[1A\u001b[1A\u001b[0G\u001b[?25l[+] Running 0/1\n",
      " \u001b[33m⠼\u001b[0m Container scalable-rag-workshop-weaviate_anon-1  Stopping               \u001b[34m3.5s \u001b[0m\n",
      "\u001b[?25h\u001b[1A\u001b[1A\u001b[0G\u001b[?25l[+] Running 0/1\n",
      " \u001b[33m⠴\u001b[0m Container scalable-rag-workshop-weaviate_anon-1  Stopping               \u001b[34m3.6s \u001b[0m\n",
      "\u001b[?25h\u001b[1A\u001b[1A\u001b[0G\u001b[?25l[+] Running 0/1\n",
      " \u001b[33m⠦\u001b[0m Container scalable-rag-workshop-weaviate_anon-1  Stopping               \u001b[34m3.7s \u001b[0m\n",
      "\u001b[?25h\u001b[1A\u001b[1A\u001b[0G\u001b[?25l[+] Running 0/1\n",
      " \u001b[33m⠧\u001b[0m Container scalable-rag-workshop-weaviate_anon-1  Stopping               \u001b[34m3.8s \u001b[0m\n",
      "\u001b[?25h\u001b[1A\u001b[1A\u001b[0G\u001b[?25l[+] Running 0/1\n",
      " \u001b[33m⠇\u001b[0m Container scalable-rag-workshop-weaviate_anon-1  Stopping               \u001b[34m3.9s \u001b[0m\n",
      "\u001b[?25h\u001b[1A\u001b[1A\u001b[0G\u001b[?25l[+] Running 0/1\n",
      " \u001b[33m⠏\u001b[0m Container scalable-rag-workshop-weaviate_anon-1  Stopping               \u001b[34m4.0s \u001b[0m\n",
      "\u001b[?25h\u001b[1A\u001b[1A\u001b[0G\u001b[?25l[+] Running 0/1\n",
      " \u001b[33m⠋\u001b[0m Container scalable-rag-workshop-weaviate_anon-1  Stopping               \u001b[34m4.1s \u001b[0m\n",
      "\u001b[?25h\u001b[1A\u001b[1A\u001b[0G\u001b[?25l[+] Running 0/1\n",
      " \u001b[33m⠙\u001b[0m Container scalable-rag-workshop-weaviate_anon-1  Stopping               \u001b[34m4.2s \u001b[0m\n",
      "\u001b[?25h\u001b[1A\u001b[1A\u001b[0G\u001b[?25l[+] Running 0/1\n",
      " \u001b[33m⠹\u001b[0m Container scalable-rag-workshop-weaviate_anon-1  Stopping               \u001b[34m4.3s \u001b[0m\n",
      "\u001b[?25h\u001b[1A\u001b[1A\u001b[0G\u001b[?25l[+] Running 0/1\n",
      " \u001b[33m⠸\u001b[0m Container scalable-rag-workshop-weaviate_anon-1  Stopping               \u001b[34m4.4s \u001b[0m\n",
      "\u001b[?25h\u001b[1A\u001b[1A\u001b[0G\u001b[?25l[+] Running 0/1\n",
      " \u001b[33m⠼\u001b[0m Container scalable-rag-workshop-weaviate_anon-1  Stopping               \u001b[34m4.5s \u001b[0m\n",
      "\u001b[?25h\u001b[1A\u001b[1A\u001b[0G\u001b[?25l[+] Running 0/1\n",
      " \u001b[33m⠴\u001b[0m Container scalable-rag-workshop-weaviate_anon-1  Stopping               \u001b[34m4.6s \u001b[0m\n",
      "\u001b[?25h\u001b[1A\u001b[1A\u001b[0G\u001b[?25l[+] Running 0/1\n",
      " \u001b[33m⠦\u001b[0m Container scalable-rag-workshop-weaviate_anon-1  Stopping               \u001b[34m4.7s \u001b[0m\n",
      "\u001b[?25h\u001b[1A\u001b[1A\u001b[0G\u001b[?25l[+] Running 0/1\n",
      " \u001b[33m⠧\u001b[0m Container scalable-rag-workshop-weaviate_anon-1  Stopping               \u001b[34m4.8s \u001b[0m\n",
      "\u001b[?25h\u001b[1A\u001b[1A\u001b[0G\u001b[?25l[+] Running 0/1\n",
      " \u001b[33m⠇\u001b[0m Container scalable-rag-workshop-weaviate_anon-1  Stopping               \u001b[34m4.9s \u001b[0m\n",
      "\u001b[?25h\u001b[1A\u001b[1A\u001b[0G\u001b[?25l[+] Running 0/1\n",
      " \u001b[33m⠏\u001b[0m Container scalable-rag-workshop-weaviate_anon-1  Stopping               \u001b[34m5.0s \u001b[0m\n",
      "\u001b[?25h\u001b[1A\u001b[1A\u001b[0G\u001b[?25l[+] Running 0/1\n",
      " \u001b[33m⠋\u001b[0m Container scalable-rag-workshop-weaviate_anon-1  Stopping               \u001b[34m5.1s \u001b[0m\n",
      "\u001b[?25h\u001b[1A\u001b[1A\u001b[0G\u001b[?25l[+] Running 0/1\n",
      " \u001b[33m⠙\u001b[0m Container scalable-rag-workshop-weaviate_anon-1  Stopping               \u001b[34m5.2s \u001b[0m\n",
      "\u001b[?25h\u001b[1A\u001b[1A\u001b[0G\u001b[?25l[+] Running 0/1\n",
      " \u001b[33m⠹\u001b[0m Container scalable-rag-workshop-weaviate_anon-1  Stopping               \u001b[34m5.3s \u001b[0m\n",
      "\u001b[?25h\u001b[1A\u001b[1A\u001b[0G\u001b[?25l[+] Running 0/1\n",
      " \u001b[33m⠸\u001b[0m Container scalable-rag-workshop-weaviate_anon-1  Stopping               \u001b[34m5.4s \u001b[0m\n",
      "\u001b[?25h\u001b[1A\u001b[1A\u001b[0G\u001b[?25l[+] Running 0/1\n",
      " \u001b[33m⠼\u001b[0m Container scalable-rag-workshop-weaviate_anon-1  Stopping               \u001b[34m5.5s \u001b[0m\n",
      "\u001b[?25h\u001b[1A\u001b[1A\u001b[0G\u001b[?25l[+] Running 0/1\n",
      " \u001b[33m⠴\u001b[0m Container scalable-rag-workshop-weaviate_anon-1  Stopping               \u001b[34m5.6s \u001b[0m\n",
      "\u001b[?25h\u001b[1A\u001b[1A\u001b[0G\u001b[?25l[+] Running 0/1\n",
      " \u001b[33m⠦\u001b[0m Container scalable-rag-workshop-weaviate_anon-1  Stopping               \u001b[34m5.7s \u001b[0m\n",
      "\u001b[?25h\u001b[1A\u001b[1A\u001b[0G\u001b[?25l[+] Running 0/1\n",
      " \u001b[33m⠧\u001b[0m Container scalable-rag-workshop-weaviate_anon-1  Stopping               \u001b[34m5.8s \u001b[0m\n",
      "\u001b[?25h\u001b[1A\u001b[1A\u001b[0G\u001b[?25l[+] Running 0/1\n",
      " \u001b[33m⠇\u001b[0m Container scalable-rag-workshop-weaviate_anon-1  Stopping               \u001b[34m5.9s \u001b[0m\n",
      "\u001b[?25h\u001b[1A\u001b[1A\u001b[0G\u001b[?25l[+] Running 0/1\n",
      " \u001b[33m⠏\u001b[0m Container scalable-rag-workshop-weaviate_anon-1  Stopping               \u001b[34m6.0s \u001b[0m\n",
      "\u001b[?25h\u001b[1A\u001b[1A\u001b[0G\u001b[?25l[+] Running 0/1\n",
      " \u001b[33m⠋\u001b[0m Container scalable-rag-workshop-weaviate_anon-1  Stopping               \u001b[34m6.1s \u001b[0m\n",
      "\u001b[?25h\u001b[1A\u001b[1A\u001b[0G\u001b[?25l[+] Running 0/1\n",
      " \u001b[33m⠙\u001b[0m Container scalable-rag-workshop-weaviate_anon-1  Stopping               \u001b[34m6.2s \u001b[0m\n",
      "\u001b[?25h\u001b[1A\u001b[1A\u001b[0G\u001b[?25l[+] Running 0/1\n",
      " \u001b[33m⠹\u001b[0m Container scalable-rag-workshop-weaviate_anon-1  Stopping               \u001b[34m6.3s \u001b[0m\n",
      "\u001b[?25h\u001b[1A\u001b[1A\u001b[0G\u001b[?25l[+] Running 0/1\n",
      " \u001b[33m⠸\u001b[0m Container scalable-rag-workshop-weaviate_anon-1  Stopping               \u001b[34m6.4s \u001b[0m\n",
      "\u001b[?25h\u001b[1A\u001b[1A\u001b[0G\u001b[?25l[+] Running 0/1\n",
      " \u001b[33m⠼\u001b[0m Container scalable-rag-workshop-weaviate_anon-1  Stopping               \u001b[34m6.5s \u001b[0m\n",
      "\u001b[?25h\u001b[1A\u001b[1A\u001b[0G\u001b[?25l[+] Running 0/1\n",
      " \u001b[33m⠴\u001b[0m Container scalable-rag-workshop-weaviate_anon-1  Stopping               \u001b[34m6.6s \u001b[0m\n",
      "\u001b[?25h\u001b[1A\u001b[1A\u001b[0G\u001b[?25l[+] Running 0/1\n",
      " \u001b[33m⠦\u001b[0m Container scalable-rag-workshop-weaviate_anon-1  Stopping               \u001b[34m6.7s \u001b[0m\n",
      "\u001b[?25h\u001b[1A\u001b[1A\u001b[0G\u001b[?25l[+] Running 0/1\n",
      " \u001b[33m⠧\u001b[0m Container scalable-rag-workshop-weaviate_anon-1  Stopping               \u001b[34m6.8s \u001b[0m\n",
      "\u001b[?25h\u001b[1A\u001b[1A\u001b[0G\u001b[?25l[+] Running 0/1\n",
      " \u001b[33m⠇\u001b[0m Container scalable-rag-workshop-weaviate_anon-1  Stopping               \u001b[34m6.9s \u001b[0m\n",
      "\u001b[?25h\u001b[1A\u001b[1A\u001b[0G\u001b[?25l[+] Running 0/1\n",
      " \u001b[33m⠏\u001b[0m Container scalable-rag-workshop-weaviate_anon-1  Stopping               \u001b[34m7.0s \u001b[0m\n",
      "\u001b[?25h\u001b[1A\u001b[1A\u001b[0G\u001b[?25l\u001b[34m[+] Running 1/1\u001b[0m\n",
      " \u001b[32m✔\u001b[0m Container scalable-rag-workshop-weaviate_anon-1  \u001b[32mRemoved\u001b[0m                \u001b[34m7.1s \u001b[0m\n",
      " \u001b[33m⠋\u001b[0m Network scalable-rag-workshop_default            Removing               \u001b[34m0.0s \u001b[0m\n",
      "\u001b[?25h\u001b[1A\u001b[1A\u001b[1A\u001b[0G\u001b[?25l\u001b[34m[+] Running 2/2\u001b[0m\n",
      " \u001b[32m✔\u001b[0m Container scalable-rag-workshop-weaviate_anon-1  \u001b[32mRemoved\u001b[0m                \u001b[34m7.1s \u001b[0m\n",
      " \u001b[32m✔\u001b[0m Network scalable-rag-workshop_default            \u001b[32mRemoved\u001b[0m                \u001b[34m0.1s \u001b[0m\n",
      "\u001b[?25h\u001b[1A\u001b[1B\u001b[0G\u001b[?25l[+] Running 1/0\n",
      " \u001b[32m✔\u001b[0m Network scalable-rag-workshop_default            \u001b[32mCreated\u001b[0m                \u001b[34m0.0s \u001b[0m\n",
      " \u001b[33m⠋\u001b[0m Container scalable-rag-workshop-weaviate_anon-1  Starting               \u001b[34m0.1s \u001b[0m\n",
      "\u001b[?25h\u001b[1A\u001b[1A\u001b[1A\u001b[0G\u001b[?25l\u001b[34m[+] Running 2/2\u001b[0m\n",
      " \u001b[32m✔\u001b[0m Network scalable-rag-workshop_default            \u001b[32mCreated\u001b[0m                \u001b[34m0.0s \u001b[0m\n",
      " \u001b[32m✔\u001b[0m Container scalable-rag-workshop-weaviate_anon-1  \u001b[32mStarted\u001b[0m                \u001b[34m0.2s \u001b[0m\n",
      "\u001b[?25h"
     ]
    }
   ],
   "source": [
    "!docker-compose down && docker-compose up -d"
   ]
  },
  {
   "cell_type": "code",
   "execution_count": 17,
   "id": "5b34fa5d",
   "metadata": {},
   "outputs": [],
   "source": [
    "# Delete existing collection if it exists\n",
    "client.collections.delete(COLLECTION_NAME)"
   ]
  },
  {
   "cell_type": "markdown",
   "id": "4211f627",
   "metadata": {},
   "source": [
    "Review indexing options"
   ]
  },
  {
   "cell_type": "code",
   "execution_count": 18,
   "id": "d5294568",
   "metadata": {},
   "outputs": [
    {
     "data": {
      "text/plain": [
       "<weaviate.collections.collection.sync.Collection at 0x168b91ad0>"
      ]
     },
     "execution_count": 18,
     "metadata": {},
     "output_type": "execute_result"
    }
   ],
   "source": [
    "from weaviate.classes.config import Property, DataType, Configure\n",
    "\n",
    "client.collections.create(\n",
    "    name=COLLECTION_NAME,\n",
    "    properties=[\n",
    "        Property(name=\"text\", data_type=DataType.TEXT),\n",
    "        Property(name=\"dialogue_id\", data_type=DataType.INT),\n",
    "        Property(name=\"company_author\", data_type=DataType.TEXT),\n",
    "        Property(name=\"created_at\", data_type=DataType.DATE),\n",
    "    ],\n",
    "    vectorizer_config=[\n",
    "        Configure.NamedVectors.text2vec_cohere(\n",
    "            name=\"text_with_metadata\",\n",
    "            source_properties=[\"text\", \"company_author\"],\n",
    "            # Indexing options\n",
    "            vector_index_config=Configure.VectorIndex.flat(),\n",
    "            model=\"embed-multilingual-light-v3.0\"\n",
    "        ),\n",
    "    ],\n",
    "    generative_config=Configure.Generative.cohere(model=\"command-r\"),\n",
    ")"
   ]
  },
  {
   "cell_type": "code",
   "execution_count": 19,
   "id": "199f1a8f",
   "metadata": {},
   "outputs": [
    {
     "name": "stderr",
     "output_type": "stream",
     "text": [
      "Importing to Weaviate: 100000it [00:35, 2797.43it/s]\n"
     ]
    },
    {
     "name": "stdout",
     "output_type": "stream",
     "text": [
      "🎉 Import completed! 100000 objects imported.\n",
      "✅ All objects imported successfully!\n"
     ]
    }
   ],
   "source": [
    "from tqdm import tqdm\n",
    "\n",
    "file_path = \"data/twitter_customer_support.h5\"\n",
    "\n",
    "chats = client.collections.get(COLLECTION_NAME)\n",
    "\n",
    "with chats.batch.fixed_size(batch_size=200) as batch:\n",
    "    for item in tqdm(get_support_data(file_path), desc=\"Importing to Weaviate\"):\n",
    "        batch.add_object(\n",
    "            uuid=item[\"uuid\"],\n",
    "            properties=item[\"properties\"],\n",
    "            vector=item[\"vector\"]\n",
    "        )\n",
    "\n",
    "print(f\"🎉 Import completed! {len(chats)} objects imported.\")\n",
    "\n",
    "# Handle any errors\n",
    "if len(chats.batch.failed_objects) > 0:\n",
    "    print(\"⚠️  Some objects failed to import:\")\n",
    "    print(f\"   Failed: {len(chats.batch.failed_objects)} objects\")\n",
    "    print(\"   First few errors:\", chats.batch.failed_objects[:3])\n",
    "else:\n",
    "    print(\"✅ All objects imported successfully!\")"
   ]
  },
  {
   "cell_type": "code",
   "execution_count": 20,
   "id": "d40083e1",
   "metadata": {},
   "outputs": [
    {
     "name": "stdout",
     "output_type": "stream",
     "text": [
      "\n",
      "\n",
      "DialogID 533243 with Company: AmazonHelp\n",
      "==================================================\n",
      "User_242734: your delivery driver that was bringing my package didn't even bother to knock on my door and then claimed delivery was unsuccessful, I spoke to someone on customer services who wasn't helpful, this has really annoyed me and I will be reviewing my account with Amazon.\n",
      "AmazonHelp: Hi Joe I am sorry to hear that! Have you received your delivery yet? ^HS\n",
      "User_242734: No I haven't and it is already 24 hours late.\n",
      "User_242734: I would understand if nobody was at my address but myself and \n",
      "\n",
      "\n",
      "DialogID 464283 with Company: AmazonHelp\n",
      "==================================================\n",
      "User_225395: After 3 online chat attempts, and several call centre reps, including a supervisor, I reached a logistics rep who says the delivery driver is doing sketchy things on his route, and I have yet to get my delivery. #badcustomerservice\n",
      "AmazonHelp: I'm so sorry for the frustration with this delivery. I'd like a member of our Social Media team to take a look into this. Please provide your details here: https://t.co/gmTuBIfTju. ^DG\n",
      "User_225395: I have screenshots too, and have replied to t\n",
      "\n",
      "\n",
      "DialogID 459107 with Company: Uber_Support\n",
      "==================================================\n",
      "User_224037: this is ridiculous and the delivery time was 7:58 when i hit submit.  You all really need to fix this\n",
      "Uber_Support: We're sorry to hear about the trouble! Find out more info about your concern here: https://t.co/OfU5UzgGiI\n",
      "User_224037: If that is the case he could have picked up my order on the way to me.  THat is my issue\n",
      "User_224037: That is not help with my concern it was not the restaurant the driver picked it up almost 25 minutes ago  from a 1/4 mile away from me and drove way \n"
     ]
    }
   ],
   "source": [
    "response = chats.query.near_text(\n",
    "    query=\"Problem with delivery\",\n",
    "    limit=3\n",
    ")\n",
    "\n",
    "for o in response.objects:\n",
    "    print(f\"\\n\\nDialogID {o.properties['dialogue_id']} with Company: {o.properties['company_author']}\")\n",
    "    print(\"=\" * 50)\n",
    "    print(o.properties[\"text\"][:500])"
   ]
  },
  {
   "cell_type": "markdown",
   "id": "9a8ce5b1",
   "metadata": {},
   "source": [
    "When to choose different indexing types?"
   ]
  },
  {
   "cell_type": "markdown",
   "id": "fea2e9f9",
   "metadata": {},
   "source": [
    "## Multi-tenancy"
   ]
  },
  {
   "cell_type": "code",
   "execution_count": 21,
   "id": "0bffe8ad",
   "metadata": {},
   "outputs": [],
   "source": [
    "# Delete existing collection if it exists\n",
    "client.collections.delete(COLLECTION_NAME)"
   ]
  },
  {
   "cell_type": "code",
   "execution_count": 22,
   "id": "56912a56",
   "metadata": {},
   "outputs": [
    {
     "data": {
      "text/plain": [
       "<weaviate.collections.collection.sync.Collection at 0x16929c310>"
      ]
     },
     "execution_count": 22,
     "metadata": {},
     "output_type": "execute_result"
    }
   ],
   "source": [
    "from weaviate.classes.config import Property, DataType, Configure\n",
    "\n",
    "client.collections.create(\n",
    "    name=COLLECTION_NAME,\n",
    "    properties=[\n",
    "        Property(name=\"text\", data_type=DataType.TEXT),\n",
    "        Property(name=\"dialogue_id\", data_type=DataType.INT),\n",
    "        Property(name=\"company_author\", data_type=DataType.TEXT),\n",
    "        Property(name=\"created_at\", data_type=DataType.DATE),\n",
    "    ],\n",
    "    vectorizer_config=[\n",
    "        Configure.NamedVectors.text2vec_cohere(\n",
    "            name=\"text_with_metadata\",\n",
    "            source_properties=[\"text\", \"company_author\"],\n",
    "            vector_index_config=Configure.VectorIndex.hnsw(),\n",
    "            model=\"embed-multilingual-light-v3.0\"\n",
    "        ),\n",
    "    ],\n",
    "    generative_config=Configure.Generative.cohere(model=\"command-r\"),\n",
    "    multi_tenancy_config=Configure.multi_tenancy(\n",
    "        enabled=True,\n",
    "        auto_tenant_creation=True\n",
    "    )\n",
    ")"
   ]
  },
  {
   "cell_type": "code",
   "execution_count": 23,
   "id": "d4c1ea6c",
   "metadata": {},
   "outputs": [
    {
     "name": "stderr",
     "output_type": "stream",
     "text": [
      "Importing to Weaviate: 100000it [00:36, 2705.65it/s]\n"
     ]
    },
    {
     "name": "stdout",
     "output_type": "stream",
     "text": [
      "✅ All objects imported successfully!\n"
     ]
    }
   ],
   "source": [
    "from tqdm import tqdm\n",
    "\n",
    "file_path = \"data/twitter_customer_support.h5\"\n",
    "\n",
    "with client.batch.fixed_size(batch_size=200) as batch:\n",
    "    for item in tqdm(get_support_data(file_path), desc=\"Importing to Weaviate\"):\n",
    "        batch.add_object(\n",
    "            collection=COLLECTION_NAME,\n",
    "            uuid=item[\"uuid\"],\n",
    "            properties=item[\"properties\"],\n",
    "            vector=item[\"vector\"],\n",
    "            tenant=item[\"tenant\"]\n",
    "        )\n",
    "\n",
    "# Handle any errors\n",
    "if len(client.batch.failed_objects) > 0:\n",
    "    print(\"⚠️  Some objects failed to import:\")\n",
    "    print(f\"   Failed: {len(client.batch.failed_objects)} objects\")\n",
    "    print(\"   First few errors:\", client.batch.failed_objects[:3])\n",
    "else:\n",
    "    print(\"✅ All objects imported successfully!\")"
   ]
  },
  {
   "cell_type": "markdown",
   "id": "8b8c609a",
   "metadata": {},
   "source": [
    "Search examples with multi-tenancy"
   ]
  },
  {
   "cell_type": "code",
   "execution_count": 24,
   "id": "48c93d38",
   "metadata": {},
   "outputs": [
    {
     "ename": "WeaviateQueryError",
     "evalue": "Query call with protocol GRPC search failed with message explorer: get class: concurrentTargetVectorSearch): explorer: get class: vector search: object vector search at index supportchat: class SupportChat has multi-tenancy enabled, but request was without tenant.",
     "output_type": "error",
     "traceback": [
      "\u001b[31m---------------------------------------------------------------------------\u001b[39m",
      "\u001b[31m_InactiveRpcError\u001b[39m                         Traceback (most recent call last)",
      "\u001b[36mFile \u001b[39m\u001b[32m~/code/demo-code/scalable-rag-workshop/.venv/lib/python3.11/site-packages/weaviate/connect/v4.py:985\u001b[39m, in \u001b[36mConnectionSync.grpc_search\u001b[39m\u001b[34m(self, request)\u001b[39m\n\u001b[32m    984\u001b[39m \u001b[38;5;28;01massert\u001b[39;00m \u001b[38;5;28mself\u001b[39m.grpc_stub \u001b[38;5;129;01mis\u001b[39;00m \u001b[38;5;129;01mnot\u001b[39;00m \u001b[38;5;28;01mNone\u001b[39;00m\n\u001b[32m--> \u001b[39m\u001b[32m985\u001b[39m res = \u001b[43m_Retry\u001b[49m\u001b[43m(\u001b[49m\u001b[32;43m4\u001b[39;49m\u001b[43m)\u001b[49m\u001b[43m.\u001b[49m\u001b[43mwith_exponential_backoff\u001b[49m\u001b[43m(\u001b[49m\n\u001b[32m    986\u001b[39m \u001b[43m    \u001b[49m\u001b[32;43m0\u001b[39;49m\u001b[43m,\u001b[49m\n\u001b[32m    987\u001b[39m \u001b[43m    \u001b[49m\u001b[33;43mf\u001b[39;49m\u001b[33;43m\"\u001b[39;49m\u001b[33;43mSearching in collection \u001b[39;49m\u001b[38;5;132;43;01m{\u001b[39;49;00m\u001b[43mrequest\u001b[49m\u001b[43m.\u001b[49m\u001b[43mcollection\u001b[49m\u001b[38;5;132;43;01m}\u001b[39;49;00m\u001b[33;43m\"\u001b[39;49m\u001b[43m,\u001b[49m\n\u001b[32m    988\u001b[39m \u001b[43m    \u001b[49m\u001b[38;5;28;43mself\u001b[39;49m\u001b[43m.\u001b[49m\u001b[43mgrpc_stub\u001b[49m\u001b[43m.\u001b[49m\u001b[43mSearch\u001b[49m\u001b[43m,\u001b[49m\n\u001b[32m    989\u001b[39m \u001b[43m    \u001b[49m\u001b[43mrequest\u001b[49m\u001b[43m,\u001b[49m\n\u001b[32m    990\u001b[39m \u001b[43m    \u001b[49m\u001b[43mmetadata\u001b[49m\u001b[43m=\u001b[49m\u001b[38;5;28;43mself\u001b[39;49m\u001b[43m.\u001b[49m\u001b[43mgrpc_headers\u001b[49m\u001b[43m(\u001b[49m\u001b[43m)\u001b[49m\u001b[43m,\u001b[49m\n\u001b[32m    991\u001b[39m \u001b[43m    \u001b[49m\u001b[43mtimeout\u001b[49m\u001b[43m=\u001b[49m\u001b[38;5;28;43mself\u001b[39;49m\u001b[43m.\u001b[49m\u001b[43mtimeout_config\u001b[49m\u001b[43m.\u001b[49m\u001b[43mquery\u001b[49m\u001b[43m,\u001b[49m\n\u001b[32m    992\u001b[39m \u001b[43m\u001b[49m\u001b[43m)\u001b[49m\n\u001b[32m    993\u001b[39m \u001b[38;5;28;01mreturn\u001b[39;00m cast(search_get_pb2.SearchReply, res)\n",
      "\u001b[36mFile \u001b[39m\u001b[32m~/code/demo-code/scalable-rag-workshop/.venv/lib/python3.11/site-packages/weaviate/retry.py:54\u001b[39m, in \u001b[36m_Retry.with_exponential_backoff\u001b[39m\u001b[34m(self, count, error, f, *args, **kwargs)\u001b[39m\n\u001b[32m     53\u001b[39m \u001b[38;5;28;01mif\u001b[39;00m err.code() != StatusCode.UNAVAILABLE:\n\u001b[32m---> \u001b[39m\u001b[32m54\u001b[39m     \u001b[38;5;28;01mraise\u001b[39;00m e\n\u001b[32m     55\u001b[39m logger.info(\n\u001b[32m     56\u001b[39m     \u001b[33mf\u001b[39m\u001b[33m\"\u001b[39m\u001b[38;5;132;01m{\u001b[39;00merror\u001b[38;5;132;01m}\u001b[39;00m\u001b[33m received exception: \u001b[39m\u001b[38;5;132;01m{\u001b[39;00me\u001b[38;5;132;01m}\u001b[39;00m\u001b[33m. Retrying with exponential backoff in \u001b[39m\u001b[38;5;132;01m{\u001b[39;00m\u001b[32m2\u001b[39m**count\u001b[38;5;132;01m}\u001b[39;00m\u001b[33m seconds\u001b[39m\u001b[33m\"\u001b[39m\n\u001b[32m     57\u001b[39m )\n",
      "\u001b[36mFile \u001b[39m\u001b[32m~/code/demo-code/scalable-rag-workshop/.venv/lib/python3.11/site-packages/weaviate/retry.py:50\u001b[39m, in \u001b[36m_Retry.with_exponential_backoff\u001b[39m\u001b[34m(self, count, error, f, *args, **kwargs)\u001b[39m\n\u001b[32m     49\u001b[39m \u001b[38;5;28;01mtry\u001b[39;00m:\n\u001b[32m---> \u001b[39m\u001b[32m50\u001b[39m     \u001b[38;5;28;01mreturn\u001b[39;00m \u001b[43mf\u001b[49m\u001b[43m(\u001b[49m\u001b[43m*\u001b[49m\u001b[43margs\u001b[49m\u001b[43m,\u001b[49m\u001b[43m \u001b[49m\u001b[43m*\u001b[49m\u001b[43m*\u001b[49m\u001b[43mkwargs\u001b[49m\u001b[43m)\u001b[49m\n\u001b[32m     51\u001b[39m \u001b[38;5;28;01mexcept\u001b[39;00m RpcError \u001b[38;5;28;01mas\u001b[39;00m e:\n",
      "\u001b[36mFile \u001b[39m\u001b[32m~/code/demo-code/scalable-rag-workshop/.venv/lib/python3.11/site-packages/grpc/_channel.py:1181\u001b[39m, in \u001b[36m_UnaryUnaryMultiCallable.__call__\u001b[39m\u001b[34m(self, request, timeout, metadata, credentials, wait_for_ready, compression)\u001b[39m\n\u001b[32m   1175\u001b[39m (\n\u001b[32m   1176\u001b[39m     state,\n\u001b[32m   1177\u001b[39m     call,\n\u001b[32m   1178\u001b[39m ) = \u001b[38;5;28mself\u001b[39m._blocking(\n\u001b[32m   1179\u001b[39m     request, timeout, metadata, credentials, wait_for_ready, compression\n\u001b[32m   1180\u001b[39m )\n\u001b[32m-> \u001b[39m\u001b[32m1181\u001b[39m \u001b[38;5;28;01mreturn\u001b[39;00m \u001b[43m_end_unary_response_blocking\u001b[49m\u001b[43m(\u001b[49m\u001b[43mstate\u001b[49m\u001b[43m,\u001b[49m\u001b[43m \u001b[49m\u001b[43mcall\u001b[49m\u001b[43m,\u001b[49m\u001b[43m \u001b[49m\u001b[38;5;28;43;01mFalse\u001b[39;49;00m\u001b[43m,\u001b[49m\u001b[43m \u001b[49m\u001b[38;5;28;43;01mNone\u001b[39;49;00m\u001b[43m)\u001b[49m\n",
      "\u001b[36mFile \u001b[39m\u001b[32m~/code/demo-code/scalable-rag-workshop/.venv/lib/python3.11/site-packages/grpc/_channel.py:1006\u001b[39m, in \u001b[36m_end_unary_response_blocking\u001b[39m\u001b[34m(state, call, with_call, deadline)\u001b[39m\n\u001b[32m   1005\u001b[39m \u001b[38;5;28;01melse\u001b[39;00m:\n\u001b[32m-> \u001b[39m\u001b[32m1006\u001b[39m     \u001b[38;5;28;01mraise\u001b[39;00m _InactiveRpcError(state)\n",
      "\u001b[31m_InactiveRpcError\u001b[39m: <_InactiveRpcError of RPC that terminated with:\n\tstatus = StatusCode.UNKNOWN\n\tdetails = \"explorer: get class: concurrentTargetVectorSearch): explorer: get class: vector search: object vector search at index supportchat: class SupportChat has multi-tenancy enabled, but request was without tenant\"\n\tdebug_error_string = \"UNKNOWN:Error received from peer  {created_time:\"2025-06-19T13:43:45.046411+01:00\", grpc_status:2, grpc_message:\"explorer: get class: concurrentTargetVectorSearch): explorer: get class: vector search: object vector search at index supportchat: class SupportChat has multi-tenancy enabled, but request was without tenant\"}\"\n>",
      "\nDuring handling of the above exception, another exception occurred:\n",
      "\u001b[31mWeaviateQueryError\u001b[39m                        Traceback (most recent call last)",
      "\u001b[36mCell\u001b[39m\u001b[36m \u001b[39m\u001b[32mIn[24]\u001b[39m\u001b[32m, line 3\u001b[39m\n\u001b[32m      1\u001b[39m \u001b[38;5;66;03m# This will fail! (Does not have tenant specified)\u001b[39;00m\n\u001b[32m----> \u001b[39m\u001b[32m3\u001b[39m response = \u001b[43mchats\u001b[49m\u001b[43m.\u001b[49m\u001b[43mquery\u001b[49m\u001b[43m.\u001b[49m\u001b[43mnear_text\u001b[49m\u001b[43m(\u001b[49m\n\u001b[32m      4\u001b[39m \u001b[43m    \u001b[49m\u001b[43mquery\u001b[49m\u001b[43m=\u001b[49m\u001b[33;43m\"\u001b[39;49m\u001b[33;43mProblem with delivery\u001b[39;49m\u001b[33;43m\"\u001b[39;49m\u001b[43m,\u001b[49m\n\u001b[32m      5\u001b[39m \u001b[43m    \u001b[49m\u001b[43mlimit\u001b[49m\u001b[43m=\u001b[49m\u001b[32;43m3\u001b[39;49m\n\u001b[32m      6\u001b[39m \u001b[43m)\u001b[49m\n\u001b[32m      8\u001b[39m \u001b[38;5;28;01mfor\u001b[39;00m o \u001b[38;5;129;01min\u001b[39;00m response.objects:\n\u001b[32m      9\u001b[39m     \u001b[38;5;28mprint\u001b[39m(\u001b[33mf\u001b[39m\u001b[33m\"\u001b[39m\u001b[38;5;130;01m\\n\u001b[39;00m\u001b[38;5;130;01m\\n\u001b[39;00m\u001b[33mDialogID \u001b[39m\u001b[38;5;132;01m{\u001b[39;00mo.properties[\u001b[33m'\u001b[39m\u001b[33mdialogue_id\u001b[39m\u001b[33m'\u001b[39m]\u001b[38;5;132;01m}\u001b[39;00m\u001b[33m with Company: \u001b[39m\u001b[38;5;132;01m{\u001b[39;00mo.properties[\u001b[33m'\u001b[39m\u001b[33mcompany_author\u001b[39m\u001b[33m'\u001b[39m]\u001b[38;5;132;01m}\u001b[39;00m\u001b[33m\"\u001b[39m)\n",
      "\u001b[36mFile \u001b[39m\u001b[32m~/code/demo-code/scalable-rag-workshop/.venv/lib/python3.11/site-packages/weaviate/collections/queries/near_text/query/executor.py:424\u001b[39m, in \u001b[36m_NearTextQueryExecutor.near_text\u001b[39m\u001b[34m(self, query, certainty, distance, move_to, move_away, limit, offset, auto_limit, filters, group_by, rerank, target_vector, include_vector, return_metadata, return_properties, return_references)\u001b[39m\n\u001b[32m    391\u001b[39m     \u001b[38;5;28;01mreturn\u001b[39;00m cast(\n\u001b[32m    392\u001b[39m         Any,\n\u001b[32m    393\u001b[39m         \u001b[38;5;28mself\u001b[39m._result_to_query_or_groupby_return(\n\u001b[32m   (...)\u001b[39m\u001b[32m    404\u001b[39m         ),\n\u001b[32m    405\u001b[39m     )\n\u001b[32m    407\u001b[39m request = \u001b[38;5;28mself\u001b[39m._query.near_text(\n\u001b[32m    408\u001b[39m     near_text=query,\n\u001b[32m    409\u001b[39m     certainty=certainty,\n\u001b[32m   (...)\u001b[39m\u001b[32m    422\u001b[39m     return_references=\u001b[38;5;28mself\u001b[39m._parse_return_references(return_references),\n\u001b[32m    423\u001b[39m )\n\u001b[32m--> \u001b[39m\u001b[32m424\u001b[39m \u001b[38;5;28;01mreturn\u001b[39;00m \u001b[43mexecutor\u001b[49m\u001b[43m.\u001b[49m\u001b[43mexecute\u001b[49m\u001b[43m(\u001b[49m\n\u001b[32m    425\u001b[39m \u001b[43m    \u001b[49m\u001b[43mresponse_callback\u001b[49m\u001b[43m=\u001b[49m\u001b[43mresp\u001b[49m\u001b[43m,\u001b[49m\n\u001b[32m    426\u001b[39m \u001b[43m    \u001b[49m\u001b[43mmethod\u001b[49m\u001b[43m=\u001b[49m\u001b[38;5;28;43mself\u001b[39;49m\u001b[43m.\u001b[49m\u001b[43m_connection\u001b[49m\u001b[43m.\u001b[49m\u001b[43mgrpc_search\u001b[49m\u001b[43m,\u001b[49m\n\u001b[32m    427\u001b[39m \u001b[43m    \u001b[49m\u001b[43mrequest\u001b[49m\u001b[43m=\u001b[49m\u001b[43mrequest\u001b[49m\u001b[43m,\u001b[49m\n\u001b[32m    428\u001b[39m \u001b[43m\u001b[49m\u001b[43m)\u001b[49m\n",
      "\u001b[36mFile \u001b[39m\u001b[32m~/code/demo-code/scalable-rag-workshop/.venv/lib/python3.11/site-packages/weaviate/connect/executor.py:99\u001b[39m, in \u001b[36mexecute\u001b[39m\u001b[34m(method, response_callback, exception_callback, *args, **kwargs)\u001b[39m\n\u001b[32m     97\u001b[39m     \u001b[38;5;28;01mreturn\u001b[39;00m resp_call\n\u001b[32m     98\u001b[39m \u001b[38;5;28;01mexcept\u001b[39;00m \u001b[38;5;167;01mException\u001b[39;00m \u001b[38;5;28;01mas\u001b[39;00m e:\n\u001b[32m---> \u001b[39m\u001b[32m99\u001b[39m     \u001b[38;5;28;01mreturn\u001b[39;00m cast(T, \u001b[43mexception_callback\u001b[49m\u001b[43m(\u001b[49m\u001b[43me\u001b[49m\u001b[43m)\u001b[49m)\n",
      "\u001b[36mFile \u001b[39m\u001b[32m~/code/demo-code/scalable-rag-workshop/.venv/lib/python3.11/site-packages/weaviate/connect/executor.py:38\u001b[39m, in \u001b[36mraise_exception\u001b[39m\u001b[34m(e)\u001b[39m\n\u001b[32m     37\u001b[39m \u001b[38;5;28;01mdef\u001b[39;00m \u001b[34mraise_exception\u001b[39m(e: \u001b[38;5;167;01mException\u001b[39;00m) -> Any:\n\u001b[32m---> \u001b[39m\u001b[32m38\u001b[39m     \u001b[38;5;28;01mraise\u001b[39;00m e\n",
      "\u001b[36mFile \u001b[39m\u001b[32m~/code/demo-code/scalable-rag-workshop/.venv/lib/python3.11/site-packages/weaviate/connect/executor.py:80\u001b[39m, in \u001b[36mexecute\u001b[39m\u001b[34m(method, response_callback, exception_callback, *args, **kwargs)\u001b[39m\n\u001b[32m     71\u001b[39m \u001b[38;5;28;01mdef\u001b[39;00m \u001b[34mexecute\u001b[39m(\n\u001b[32m     72\u001b[39m     method: SyncOrAsyncMethod[P, R],\n\u001b[32m     73\u001b[39m     response_callback: SyncOrAsyncCallback[R, T, A],\n\u001b[32m   (...)\u001b[39m\u001b[32m     77\u001b[39m ) -> Union[T, Awaitable[T], Awaitable[A]]:\n\u001b[32m     78\u001b[39m     \u001b[38;5;66;03m# wrap method call in try-except to catch exceptions for sync method\u001b[39;00m\n\u001b[32m     79\u001b[39m     \u001b[38;5;28;01mtry\u001b[39;00m:\n\u001b[32m---> \u001b[39m\u001b[32m80\u001b[39m         call = \u001b[43mmethod\u001b[49m\u001b[43m(\u001b[49m\u001b[43m*\u001b[49m\u001b[43margs\u001b[49m\u001b[43m,\u001b[49m\u001b[43m \u001b[49m\u001b[43m*\u001b[49m\u001b[43m*\u001b[49m\u001b[43mkwargs\u001b[49m\u001b[43m)\u001b[49m\n\u001b[32m     81\u001b[39m         \u001b[38;5;28;01mif\u001b[39;00m \u001b[38;5;28misinstance\u001b[39m(call, Awaitable):\n\u001b[32m     83\u001b[39m             \u001b[38;5;28;01masync\u001b[39;00m \u001b[38;5;28;01mdef\u001b[39;00m \u001b[34m_execute\u001b[39m() -> T:\n\u001b[32m     84\u001b[39m                 \u001b[38;5;66;03m# wrap await in try-except to catch exceptions for async method\u001b[39;00m\n",
      "\u001b[36mFile \u001b[39m\u001b[32m~/code/demo-code/scalable-rag-workshop/.venv/lib/python3.11/site-packages/weaviate/connect/v4.py:998\u001b[39m, in \u001b[36mConnectionSync.grpc_search\u001b[39m\u001b[34m(self, request)\u001b[39m\n\u001b[32m    996\u001b[39m     \u001b[38;5;28;01mif\u001b[39;00m error.code() == StatusCode.PERMISSION_DENIED:\n\u001b[32m    997\u001b[39m         \u001b[38;5;28;01mraise\u001b[39;00m InsufficientPermissionsError(error)\n\u001b[32m--> \u001b[39m\u001b[32m998\u001b[39m     \u001b[38;5;28;01mraise\u001b[39;00m WeaviateQueryError(\u001b[38;5;28mstr\u001b[39m(error.details()), \u001b[33m\"\u001b[39m\u001b[33mGRPC search\u001b[39m\u001b[33m\"\u001b[39m)  \u001b[38;5;66;03m# pyright: ignore\u001b[39;00m\n\u001b[32m    999\u001b[39m \u001b[38;5;28;01mexcept\u001b[39;00m WeaviateRetryError \u001b[38;5;28;01mas\u001b[39;00m e:\n\u001b[32m   1000\u001b[39m     \u001b[38;5;28;01mraise\u001b[39;00m WeaviateQueryError(\u001b[38;5;28mstr\u001b[39m(e), \u001b[33m\"\u001b[39m\u001b[33mGRPC search\u001b[39m\u001b[33m\"\u001b[39m)\n",
      "\u001b[31mWeaviateQueryError\u001b[39m: Query call with protocol GRPC search failed with message explorer: get class: concurrentTargetVectorSearch): explorer: get class: vector search: object vector search at index supportchat: class SupportChat has multi-tenancy enabled, but request was without tenant."
     ]
    }
   ],
   "source": [
    "# This will fail! (Does not have tenant specified)\n",
    "\n",
    "response = chats.query.near_text(\n",
    "    query=\"Problem with delivery\",\n",
    "    limit=3\n",
    ")\n",
    "\n",
    "for o in response.objects:\n",
    "    print(f\"\\n\\nDialogID {o.properties['dialogue_id']} with Company: {o.properties['company_author']}\")\n",
    "    print(\"=\" * 50)\n",
    "    print(o.properties[\"text\"][:500])"
   ]
  },
  {
   "cell_type": "code",
   "execution_count": 25,
   "id": "e08fd916",
   "metadata": {},
   "outputs": [
    {
     "name": "stdout",
     "output_type": "stream",
     "text": [
      "\n",
      "\n",
      "DialogID 734362 with Company: AldiUK\n",
      "==================================================\n",
      "User_295708: looks like a problem with 3d printer delivery :( was tracking fine this morning. https://t.co/giDq3Bh9e7\n",
      "AldiUK: We're sorry to hear this, Ed. Please could you send us a DM with your order number so that our customer services team can look into this further? Thanks.\n",
      "User_295708: it got delivered today, please offer choice not to use hermes delivery....i would have paid more to get a different service!\n",
      "\n",
      "\n",
      "DialogID 276880 with Company: AldiUK\n",
      "==================================================\n",
      "User_182159: - @127161 lied about trying to delivery package on Friday. No updates, no redelivery, nothing. How do I deal with YOU?\n",
      "AldiUK: @127161 We're sorry to hear this, Gareth. Please could you send us a DM with your order number so we can look into this further?\n",
      "\n",
      "\n",
      "DialogID 455419 with Company: NikeSupport\n",
      "==================================================\n",
      "User_223105: hi, I have just had a part of my order that has been cancelled, meaning half my delivery will not be fulfilled. I ordered 3 days ago, delivery is due tomorrow. This is unacceptable and is the second time this has happened, plus I have wasted a discount code.\n",
      "NikeSupport: Sorry to see your order was cancelled, Sophie. Please give us a call for further assistance. | +44 (0) 2076604453 (8am-8pm BST Monday-Friday, 8am-5pm BST Saturday)\n",
      "User_223105: Hi, we're in GMT now, not BST. Is ther\n"
     ]
    }
   ],
   "source": [
    "tenant = chats.with_tenant(tenant_names[1])\n",
    "\n",
    "response = tenant.query.near_text(\n",
    "    query=\"Problem with delivery\",\n",
    "    limit=3\n",
    ")\n",
    "\n",
    "for o in response.objects:\n",
    "    print(f\"\\n\\nDialogID {o.properties['dialogue_id']} with Company: {o.properties['company_author']}\")\n",
    "    print(\"=\" * 50)\n",
    "    print(o.properties[\"text\"][:500])"
   ]
  },
  {
   "cell_type": "code",
   "execution_count": 26,
   "id": "fb7181d3",
   "metadata": {},
   "outputs": [],
   "source": [
    "from weaviate.classes.query import Filter\n",
    "\n",
    "tenant = chats.with_tenant(tenant_names[0])\n",
    "\n",
    "response = tenant.query.near_text(\n",
    "    query=\"Delay compensation\",\n",
    "    limit=3,\n",
    "    # filters=Filter.by_property(\"company_author\").like(\"*Air*\")\n",
    "    filters=Filter.by_property(\"company_author\").equal(\"Uber_Support\")\n",
    ")\n",
    "\n",
    "for o in response.objects:\n",
    "    print(f\"\\n\\nDialogID {o.properties['dialogue_id']} with Company: {o.properties['company_author']}\")\n",
    "    print(\"=\" * 50)\n",
    "    print(o.properties[\"text\"][:500])"
   ]
  },
  {
   "cell_type": "markdown",
   "id": "c8f16530",
   "metadata": {},
   "source": [
    "## Multi-node example"
   ]
  },
  {
   "cell_type": "code",
   "execution_count": 27,
   "id": "c7172ba6",
   "metadata": {},
   "outputs": [
    {
     "name": "stdout",
     "output_type": "stream",
     "text": [
      "\u001b[1A\u001b[1B\u001b[0G\u001b[?25l[+] Running 0/0\n",
      " \u001b[33m⠋\u001b[0m Container scalable-rag-workshop-weaviate_anon-1  Stopping               \u001b[34m0.1s \u001b[0m\n",
      "\u001b[?25h\u001b[1A\u001b[1A\u001b[0G\u001b[?25l[+] Running 0/1\n",
      " \u001b[33m⠙\u001b[0m Container scalable-rag-workshop-weaviate_anon-1  Stopping               \u001b[34m0.2s \u001b[0m\n",
      "\u001b[?25h\u001b[1A\u001b[1A\u001b[0G\u001b[?25l[+] Running 0/1\n",
      " \u001b[33m⠹\u001b[0m Container scalable-rag-workshop-weaviate_anon-1  Stopping               \u001b[34m0.3s \u001b[0m\n",
      "\u001b[?25h\u001b[1A\u001b[1A\u001b[0G\u001b[?25l[+] Running 0/1\n",
      " \u001b[33m⠸\u001b[0m Container scalable-rag-workshop-weaviate_anon-1  Stopping               \u001b[34m0.4s \u001b[0m\n",
      "\u001b[?25h\u001b[1A\u001b[1A\u001b[0G\u001b[?25l[+] Running 0/1\n",
      " \u001b[33m⠼\u001b[0m Container scalable-rag-workshop-weaviate_anon-1  Stopping               \u001b[34m0.5s \u001b[0m\n",
      "\u001b[?25h\u001b[1A\u001b[1A\u001b[0G\u001b[?25l[+] Running 0/1\n",
      " \u001b[33m⠴\u001b[0m Container scalable-rag-workshop-weaviate_anon-1  Stopping               \u001b[34m0.6s \u001b[0m\n",
      "\u001b[?25h\u001b[1A\u001b[1A\u001b[0G\u001b[?25l[+] Running 0/1\n",
      " \u001b[33m⠦\u001b[0m Container scalable-rag-workshop-weaviate_anon-1  Stopping               \u001b[34m0.7s \u001b[0m\n",
      "\u001b[?25h\u001b[1A\u001b[1A\u001b[0G\u001b[?25l[+] Running 0/1\n",
      " \u001b[33m⠧\u001b[0m Container scalable-rag-workshop-weaviate_anon-1  Stopping               \u001b[34m0.8s \u001b[0m\n",
      "\u001b[?25h\u001b[1A\u001b[1A\u001b[0G\u001b[?25l[+] Running 0/1\n",
      " \u001b[33m⠇\u001b[0m Container scalable-rag-workshop-weaviate_anon-1  Stopping               \u001b[34m0.9s \u001b[0m\n",
      "\u001b[?25h\u001b[1A\u001b[1A\u001b[0G\u001b[?25l[+] Running 0/1\n",
      " \u001b[33m⠏\u001b[0m Container scalable-rag-workshop-weaviate_anon-1  Stopping               \u001b[34m1.0s \u001b[0m\n",
      "\u001b[?25h\u001b[1A\u001b[1A\u001b[0G\u001b[?25l[+] Running 0/1\n",
      " \u001b[33m⠋\u001b[0m Container scalable-rag-workshop-weaviate_anon-1  Stopping               \u001b[34m1.1s \u001b[0m\n",
      "\u001b[?25h\u001b[1A\u001b[1A\u001b[0G\u001b[?25l[+] Running 0/1\n",
      " \u001b[33m⠙\u001b[0m Container scalable-rag-workshop-weaviate_anon-1  Stopping               \u001b[34m1.2s \u001b[0m\n",
      "\u001b[?25h\u001b[1A\u001b[1A\u001b[0G\u001b[?25l[+] Running 0/1\n",
      " \u001b[33m⠹\u001b[0m Container scalable-rag-workshop-weaviate_anon-1  Stopping               \u001b[34m1.3s \u001b[0m\n",
      "\u001b[?25h\u001b[1A\u001b[1A\u001b[0G\u001b[?25l[+] Running 0/1\n",
      " \u001b[33m⠸\u001b[0m Container scalable-rag-workshop-weaviate_anon-1  Stopping               \u001b[34m1.4s \u001b[0m\n",
      "\u001b[?25h\u001b[1A\u001b[1A\u001b[0G\u001b[?25l[+] Running 0/1\n",
      " \u001b[33m⠼\u001b[0m Container scalable-rag-workshop-weaviate_anon-1  Stopping               \u001b[34m1.5s \u001b[0m\n",
      "\u001b[?25h\u001b[1A\u001b[1A\u001b[0G\u001b[?25l[+] Running 0/1\n",
      " \u001b[33m⠴\u001b[0m Container scalable-rag-workshop-weaviate_anon-1  Stopping               \u001b[34m1.6s \u001b[0m\n",
      "\u001b[?25h\u001b[1A\u001b[1A\u001b[0G\u001b[?25l[+] Running 0/1\n",
      " \u001b[33m⠦\u001b[0m Container scalable-rag-workshop-weaviate_anon-1  Stopping               \u001b[34m1.7s \u001b[0m\n",
      "\u001b[?25h\u001b[1A\u001b[1A\u001b[0G\u001b[?25l[+] Running 0/1\n",
      " \u001b[33m⠧\u001b[0m Container scalable-rag-workshop-weaviate_anon-1  Stopping               \u001b[34m1.8s \u001b[0m\n",
      "\u001b[?25h\u001b[1A\u001b[1A\u001b[0G\u001b[?25l[+] Running 0/1\n",
      " \u001b[33m⠇\u001b[0m Container scalable-rag-workshop-weaviate_anon-1  Stopping               \u001b[34m1.9s \u001b[0m\n",
      "\u001b[?25h\u001b[1A\u001b[1A\u001b[0G\u001b[?25l[+] Running 0/1\n",
      " \u001b[33m⠏\u001b[0m Container scalable-rag-workshop-weaviate_anon-1  Stopping               \u001b[34m2.0s \u001b[0m\n",
      "\u001b[?25h\u001b[1A\u001b[1A\u001b[0G\u001b[?25l[+] Running 0/1\n",
      " \u001b[33m⠋\u001b[0m Container scalable-rag-workshop-weaviate_anon-1  Stopping               \u001b[34m2.1s \u001b[0m\n",
      "\u001b[?25h\u001b[1A\u001b[1A\u001b[0G\u001b[?25l[+] Running 0/1\n",
      " \u001b[33m⠙\u001b[0m Container scalable-rag-workshop-weaviate_anon-1  Stopping               \u001b[34m2.2s \u001b[0m\n",
      "\u001b[?25h\u001b[1A\u001b[1A\u001b[0G\u001b[?25l[+] Running 0/1\n",
      " \u001b[33m⠹\u001b[0m Container scalable-rag-workshop-weaviate_anon-1  Stopping               \u001b[34m2.3s \u001b[0m\n",
      "\u001b[?25h\u001b[1A\u001b[1A\u001b[0G\u001b[?25l[+] Running 0/1\n",
      " \u001b[33m⠸\u001b[0m Container scalable-rag-workshop-weaviate_anon-1  Stopping               \u001b[34m2.4s \u001b[0m\n",
      "\u001b[?25h\u001b[1A\u001b[1A\u001b[0G\u001b[?25l[+] Running 0/1\n",
      " \u001b[33m⠼\u001b[0m Container scalable-rag-workshop-weaviate_anon-1  Stopping               \u001b[34m2.5s \u001b[0m\n",
      "\u001b[?25h\u001b[1A\u001b[1A\u001b[0G\u001b[?25l[+] Running 0/1\n",
      " \u001b[33m⠴\u001b[0m Container scalable-rag-workshop-weaviate_anon-1  Stopping               \u001b[34m2.6s \u001b[0m\n",
      "\u001b[?25h\u001b[1A\u001b[1A\u001b[0G\u001b[?25l[+] Running 0/1\n",
      " \u001b[33m⠦\u001b[0m Container scalable-rag-workshop-weaviate_anon-1  Stopping               \u001b[34m2.7s \u001b[0m\n",
      "\u001b[?25h\u001b[1A\u001b[1A\u001b[0G\u001b[?25l[+] Running 0/1\n",
      " \u001b[33m⠧\u001b[0m Container scalable-rag-workshop-weaviate_anon-1  Stopping               \u001b[34m2.8s \u001b[0m\n",
      "\u001b[?25h\u001b[1A\u001b[1A\u001b[0G\u001b[?25l[+] Running 0/1\n",
      " \u001b[33m⠇\u001b[0m Container scalable-rag-workshop-weaviate_anon-1  Stopping               \u001b[34m2.9s \u001b[0m\n",
      "\u001b[?25h\u001b[1A\u001b[1A\u001b[0G\u001b[?25l[+] Running 0/1\n",
      " \u001b[33m⠏\u001b[0m Container scalable-rag-workshop-weaviate_anon-1  Stopping               \u001b[34m3.0s \u001b[0m\n",
      "\u001b[?25h\u001b[1A\u001b[1A\u001b[0G\u001b[?25l[+] Running 0/1\n",
      " \u001b[33m⠋\u001b[0m Container scalable-rag-workshop-weaviate_anon-1  Stopping               \u001b[34m3.1s \u001b[0m\n",
      "\u001b[?25h\u001b[1A\u001b[1A\u001b[0G\u001b[?25l[+] Running 0/1\n",
      " \u001b[33m⠙\u001b[0m Container scalable-rag-workshop-weaviate_anon-1  Stopping               \u001b[34m3.2s \u001b[0m\n",
      "\u001b[?25h\u001b[1A\u001b[1A\u001b[0G\u001b[?25l[+] Running 0/1\n",
      " \u001b[33m⠹\u001b[0m Container scalable-rag-workshop-weaviate_anon-1  Stopping               \u001b[34m3.3s \u001b[0m\n",
      "\u001b[?25h\u001b[1A\u001b[1A\u001b[0G\u001b[?25l[+] Running 0/1\n",
      " \u001b[33m⠸\u001b[0m Container scalable-rag-workshop-weaviate_anon-1  Stopping               \u001b[34m3.4s \u001b[0m\n",
      "\u001b[?25h\u001b[1A\u001b[1A\u001b[0G\u001b[?25l[+] Running 0/1\n",
      " \u001b[33m⠼\u001b[0m Container scalable-rag-workshop-weaviate_anon-1  Stopping               \u001b[34m3.5s \u001b[0m\n",
      "\u001b[?25h\u001b[1A\u001b[1A\u001b[0G\u001b[?25l[+] Running 0/1\n",
      " \u001b[33m⠴\u001b[0m Container scalable-rag-workshop-weaviate_anon-1  Stopping               \u001b[34m3.6s \u001b[0m\n",
      "\u001b[?25h\u001b[1A\u001b[1A\u001b[0G\u001b[?25l[+] Running 0/1\n",
      " \u001b[33m⠦\u001b[0m Container scalable-rag-workshop-weaviate_anon-1  Stopping               \u001b[34m3.7s \u001b[0m\n",
      "\u001b[?25h\u001b[1A\u001b[1A\u001b[0G\u001b[?25l[+] Running 0/1\n",
      " \u001b[33m⠧\u001b[0m Container scalable-rag-workshop-weaviate_anon-1  Stopping               \u001b[34m3.8s \u001b[0m\n",
      "\u001b[?25h\u001b[1A\u001b[1A\u001b[0G\u001b[?25l[+] Running 0/1\n",
      " \u001b[33m⠇\u001b[0m Container scalable-rag-workshop-weaviate_anon-1  Stopping               \u001b[34m3.9s \u001b[0m\n",
      "\u001b[?25h\u001b[1A\u001b[1A\u001b[0G\u001b[?25l[+] Running 0/1\n",
      " \u001b[33m⠏\u001b[0m Container scalable-rag-workshop-weaviate_anon-1  Stopping               \u001b[34m4.0s \u001b[0m\n",
      "\u001b[?25h\u001b[1A\u001b[1A\u001b[0G\u001b[?25l[+] Running 0/1\n",
      " \u001b[33m⠋\u001b[0m Container scalable-rag-workshop-weaviate_anon-1  Stopping               \u001b[34m4.1s \u001b[0m\n",
      "\u001b[?25h\u001b[1A\u001b[1A\u001b[0G\u001b[?25l[+] Running 0/1\n",
      " \u001b[33m⠙\u001b[0m Container scalable-rag-workshop-weaviate_anon-1  Stopping               \u001b[34m4.2s \u001b[0m\n",
      "\u001b[?25h\u001b[1A\u001b[1A\u001b[0G\u001b[?25l[+] Running 0/1\n",
      " \u001b[33m⠹\u001b[0m Container scalable-rag-workshop-weaviate_anon-1  Stopping               \u001b[34m4.3s \u001b[0m\n",
      "\u001b[?25h\u001b[1A\u001b[1A\u001b[0G\u001b[?25l[+] Running 0/1\n",
      " \u001b[33m⠸\u001b[0m Container scalable-rag-workshop-weaviate_anon-1  Stopping               \u001b[34m4.4s \u001b[0m\n",
      "\u001b[?25h\u001b[1A\u001b[1A\u001b[0G\u001b[?25l[+] Running 0/1\n",
      " \u001b[33m⠼\u001b[0m Container scalable-rag-workshop-weaviate_anon-1  Stopping               \u001b[34m4.5s \u001b[0m\n",
      "\u001b[?25h\u001b[1A\u001b[1A\u001b[0G\u001b[?25l[+] Running 0/1\n",
      " \u001b[33m⠴\u001b[0m Container scalable-rag-workshop-weaviate_anon-1  Stopping               \u001b[34m4.6s \u001b[0m\n",
      "\u001b[?25h\u001b[1A\u001b[1A\u001b[0G\u001b[?25l[+] Running 0/1\n",
      " \u001b[33m⠦\u001b[0m Container scalable-rag-workshop-weaviate_anon-1  Stopping               \u001b[34m4.7s \u001b[0m\n",
      "\u001b[?25h\u001b[1A\u001b[1A\u001b[0G\u001b[?25l[+] Running 0/1\n",
      " \u001b[33m⠧\u001b[0m Container scalable-rag-workshop-weaviate_anon-1  Stopping               \u001b[34m4.8s \u001b[0m\n",
      "\u001b[?25h\u001b[1A\u001b[1A\u001b[0G\u001b[?25l[+] Running 0/1\n",
      " \u001b[33m⠇\u001b[0m Container scalable-rag-workshop-weaviate_anon-1  Stopping               \u001b[34m4.9s \u001b[0m\n",
      "\u001b[?25h\u001b[1A\u001b[1A\u001b[0G\u001b[?25l[+] Running 0/1\n",
      " \u001b[33m⠏\u001b[0m Container scalable-rag-workshop-weaviate_anon-1  Stopping               \u001b[34m5.0s \u001b[0m\n",
      "\u001b[?25h\u001b[1A\u001b[1A\u001b[0G\u001b[?25l[+] Running 0/1\n",
      " \u001b[33m⠋\u001b[0m Container scalable-rag-workshop-weaviate_anon-1  Stopping               \u001b[34m5.1s \u001b[0m\n",
      "\u001b[?25h\u001b[1A\u001b[1A\u001b[0G\u001b[?25l[+] Running 0/1\n",
      " \u001b[33m⠙\u001b[0m Container scalable-rag-workshop-weaviate_anon-1  Stopping               \u001b[34m5.2s \u001b[0m\n",
      "\u001b[?25h\u001b[1A\u001b[1A\u001b[0G\u001b[?25l[+] Running 0/1\n",
      " \u001b[33m⠹\u001b[0m Container scalable-rag-workshop-weaviate_anon-1  Stopping               \u001b[34m5.3s \u001b[0m\n",
      "\u001b[?25h\u001b[1A\u001b[1A\u001b[0G\u001b[?25l[+] Running 0/1\n",
      " \u001b[33m⠸\u001b[0m Container scalable-rag-workshop-weaviate_anon-1  Stopping               \u001b[34m5.4s \u001b[0m\n",
      "\u001b[?25h\u001b[1A\u001b[1A\u001b[0G\u001b[?25l[+] Running 0/1\n",
      " \u001b[33m⠼\u001b[0m Container scalable-rag-workshop-weaviate_anon-1  Stopping               \u001b[34m5.5s \u001b[0m\n",
      "\u001b[?25h\u001b[1A\u001b[1A\u001b[0G\u001b[?25l[+] Running 0/1\n",
      " \u001b[33m⠴\u001b[0m Container scalable-rag-workshop-weaviate_anon-1  Stopping               \u001b[34m5.6s \u001b[0m\n",
      "\u001b[?25h\u001b[1A\u001b[1A\u001b[0G\u001b[?25l[+] Running 0/1\n",
      " \u001b[33m⠦\u001b[0m Container scalable-rag-workshop-weaviate_anon-1  Stopping               \u001b[34m5.7s \u001b[0m\n",
      "\u001b[?25h\u001b[1A\u001b[1A\u001b[0G\u001b[?25l[+] Running 0/1\n",
      " \u001b[33m⠧\u001b[0m Container scalable-rag-workshop-weaviate_anon-1  Stopping               \u001b[34m5.8s \u001b[0m\n",
      "\u001b[?25h\u001b[1A\u001b[1A\u001b[0G\u001b[?25l[+] Running 0/1\n",
      " \u001b[33m⠇\u001b[0m Container scalable-rag-workshop-weaviate_anon-1  Stopping               \u001b[34m5.9s \u001b[0m\n",
      "\u001b[?25h\u001b[1A\u001b[1A\u001b[0G\u001b[?25l[+] Running 0/1\n",
      " \u001b[33m⠏\u001b[0m Container scalable-rag-workshop-weaviate_anon-1  Stopping               \u001b[34m6.0s \u001b[0m\n",
      "\u001b[?25h\u001b[1A\u001b[1A\u001b[0G\u001b[?25l[+] Running 0/1\n",
      " \u001b[33m⠋\u001b[0m Container scalable-rag-workshop-weaviate_anon-1  Stopping               \u001b[34m6.1s \u001b[0m\n",
      "\u001b[?25h\u001b[1A\u001b[1A\u001b[0G\u001b[?25l[+] Running 0/1\n",
      " \u001b[33m⠙\u001b[0m Container scalable-rag-workshop-weaviate_anon-1  Stopping               \u001b[34m6.2s \u001b[0m\n",
      "\u001b[?25h\u001b[1A\u001b[1A\u001b[0G\u001b[?25l[+] Running 0/1\n",
      " \u001b[33m⠹\u001b[0m Container scalable-rag-workshop-weaviate_anon-1  Stopping               \u001b[34m6.3s \u001b[0m\n",
      "\u001b[?25h\u001b[1A\u001b[1A\u001b[0G\u001b[?25l[+] Running 0/1\n",
      " \u001b[33m⠸\u001b[0m Container scalable-rag-workshop-weaviate_anon-1  Stopping               \u001b[34m6.4s \u001b[0m\n",
      "\u001b[?25h\u001b[1A\u001b[1A\u001b[0G\u001b[?25l[+] Running 0/1\n",
      " \u001b[33m⠼\u001b[0m Container scalable-rag-workshop-weaviate_anon-1  Stopping               \u001b[34m6.5s \u001b[0m\n",
      "\u001b[?25h\u001b[1A\u001b[1A\u001b[0G\u001b[?25l[+] Running 0/1\n",
      " \u001b[33m⠴\u001b[0m Container scalable-rag-workshop-weaviate_anon-1  Stopping               \u001b[34m6.6s \u001b[0m\n",
      "\u001b[?25h\u001b[1A\u001b[1A\u001b[0G\u001b[?25l[+] Running 0/1\n",
      " \u001b[33m⠦\u001b[0m Container scalable-rag-workshop-weaviate_anon-1  Stopping               \u001b[34m6.7s \u001b[0m\n",
      "\u001b[?25h\u001b[1A\u001b[1A\u001b[0G\u001b[?25l[+] Running 0/1\n",
      " \u001b[33m⠧\u001b[0m Container scalable-rag-workshop-weaviate_anon-1  Stopping               \u001b[34m6.8s \u001b[0m\n",
      "\u001b[?25h\u001b[1A\u001b[1A\u001b[0G\u001b[?25l[+] Running 0/1\n",
      " \u001b[33m⠇\u001b[0m Container scalable-rag-workshop-weaviate_anon-1  Stopping               \u001b[34m6.9s \u001b[0m\n",
      "\u001b[?25h\u001b[1A\u001b[1A\u001b[0G\u001b[?25l[+] Running 0/1\n",
      " \u001b[33m⠏\u001b[0m Container scalable-rag-workshop-weaviate_anon-1  Stopping               \u001b[34m7.0s \u001b[0m\n",
      "\u001b[?25h\u001b[1A\u001b[1A\u001b[0G\u001b[?25l[+] Running 0/1\n",
      " \u001b[33m⠋\u001b[0m Container scalable-rag-workshop-weaviate_anon-1  Stopping               \u001b[34m7.1s \u001b[0m\n",
      "\u001b[?25h\u001b[1A\u001b[1A\u001b[0G\u001b[?25l[+] Running 0/1\n",
      " \u001b[33m⠙\u001b[0m Container scalable-rag-workshop-weaviate_anon-1  Stopping               \u001b[34m7.2s \u001b[0m\n",
      "\u001b[?25h\u001b[1A\u001b[1A\u001b[0G\u001b[?25l[+] Running 0/1\n",
      " \u001b[33m⠹\u001b[0m Container scalable-rag-workshop-weaviate_anon-1  Stopping               \u001b[34m7.3s \u001b[0m\n",
      "\u001b[?25h\u001b[1A\u001b[1A\u001b[0G\u001b[?25l[+] Running 0/1\n",
      " \u001b[33m⠸\u001b[0m Container scalable-rag-workshop-weaviate_anon-1  Stopping               \u001b[34m7.4s \u001b[0m\n",
      "\u001b[?25h\u001b[1A\u001b[1A\u001b[0G\u001b[?25l[+] Running 0/1\n",
      " \u001b[33m⠼\u001b[0m Container scalable-rag-workshop-weaviate_anon-1  Stopping               \u001b[34m7.5s \u001b[0m\n",
      "\u001b[?25h\u001b[1A\u001b[1A\u001b[0G\u001b[?25l[+] Running 0/1\n",
      " \u001b[33m⠴\u001b[0m Container scalable-rag-workshop-weaviate_anon-1  Stopping               \u001b[34m7.6s \u001b[0m\n",
      "\u001b[?25h\u001b[1A\u001b[1A\u001b[0G\u001b[?25l[+] Running 0/1\n",
      " \u001b[33m⠦\u001b[0m Container scalable-rag-workshop-weaviate_anon-1  Stopping               \u001b[34m7.7s \u001b[0m\n",
      "\u001b[?25h\u001b[1A\u001b[1A\u001b[0G\u001b[?25l[+] Running 0/1\n",
      " \u001b[33m⠧\u001b[0m Container scalable-rag-workshop-weaviate_anon-1  Stopping               \u001b[34m7.8s \u001b[0m\n",
      "\u001b[?25h\u001b[1A\u001b[1A\u001b[0G\u001b[?25l[+] Running 0/1\n",
      " \u001b[33m⠇\u001b[0m Container scalable-rag-workshop-weaviate_anon-1  Stopping               \u001b[34m7.9s \u001b[0m\n",
      "\u001b[?25h\u001b[1A\u001b[1A\u001b[0G\u001b[?25l[+] Running 0/1\n",
      " \u001b[33m⠏\u001b[0m Container scalable-rag-workshop-weaviate_anon-1  Stopping               \u001b[34m8.0s \u001b[0m\n",
      "\u001b[?25h\u001b[1A\u001b[1A\u001b[0G\u001b[?25l[+] Running 2/1\n",
      " \u001b[32m✔\u001b[0m Container scalable-rag-workshop-weaviate_anon-1  \u001b[32mRemoved\u001b[0m                \u001b[34m8.0s \u001b[0m\n",
      " \u001b[32m✔\u001b[0m Network scalable-rag-workshop_default            \u001b[32mRemoved\u001b[0m                \u001b[34m0.0s \u001b[0m\n",
      "\u001b[?25h\u001b[1A\u001b[1B\u001b[0G\u001b[?25l[+] Running 4/0\n",
      " \u001b[32m✔\u001b[0m Network scalable-rag-workshop_default                       \u001b[32mCreated\u001b[0m     \u001b[34m0.0s \u001b[0m\n",
      " \u001b[32m✔\u001b[0m Volume \"scalable-rag-workshop_scalable_rag_workshop_node0\"  \u001b[32mCreated\u001b[0m     \u001b[34m0.0s \u001b[0m\n",
      " \u001b[32m✔\u001b[0m Volume \"scalable-rag-workshop_scalable_rag_workshop_node1\"  \u001b[32mCreated\u001b[0m     \u001b[34m0.0s \u001b[0m\n",
      " \u001b[32m✔\u001b[0m Volume \"scalable-rag-workshop_scalable_rag_workshop_node2\"  \u001b[32mCreated\u001b[0m     \u001b[34m0.0s \u001b[0m\n",
      " \u001b[33m⠋\u001b[0m Container scalable-rag-workshop-weaviate-2-1                Starting    \u001b[34m0.1s \u001b[0m\n",
      " \u001b[33m⠋\u001b[0m Container scalable-rag-workshop-weaviate-1-1                Starting    \u001b[34m0.1s \u001b[0m\n",
      " \u001b[33m⠋\u001b[0m Container scalable-rag-workshop-weaviate-0-1                Starting    \u001b[34m0.1s \u001b[0m\n",
      "\u001b[?25h\u001b[1A\u001b[1A\u001b[1A\u001b[1A\u001b[1A\u001b[1A\u001b[1A\u001b[1A\u001b[0G\u001b[?25l[+] Running 4/7\n",
      " \u001b[32m✔\u001b[0m Network scalable-rag-workshop_default                       \u001b[32mCreated\u001b[0m     \u001b[34m0.0s \u001b[0m\n",
      " \u001b[32m✔\u001b[0m Volume \"scalable-rag-workshop_scalable_rag_workshop_node0\"  \u001b[32mCreated\u001b[0m     \u001b[34m0.0s \u001b[0m\n",
      " \u001b[32m✔\u001b[0m Volume \"scalable-rag-workshop_scalable_rag_workshop_node1\"  \u001b[32mCreated\u001b[0m     \u001b[34m0.0s \u001b[0m\n",
      " \u001b[32m✔\u001b[0m Volume \"scalable-rag-workshop_scalable_rag_workshop_node2\"  \u001b[32mCreated\u001b[0m     \u001b[34m0.0s \u001b[0m\n",
      " \u001b[33m⠙\u001b[0m Container scalable-rag-workshop-weaviate-2-1                Starting    \u001b[34m0.2s \u001b[0m\n",
      " \u001b[33m⠙\u001b[0m Container scalable-rag-workshop-weaviate-1-1                Starting    \u001b[34m0.2s \u001b[0m\n",
      " \u001b[33m⠙\u001b[0m Container scalable-rag-workshop-weaviate-0-1                Starting    \u001b[34m0.2s \u001b[0m\n",
      "\u001b[?25h\u001b[1A\u001b[1A\u001b[1A\u001b[1A\u001b[1A\u001b[1A\u001b[1A\u001b[1A\u001b[0G\u001b[?25l\u001b[34m[+] Running 7/7\u001b[0m\n",
      " \u001b[32m✔\u001b[0m Network scalable-rag-workshop_default                       \u001b[32mCreated\u001b[0m     \u001b[34m0.0s \u001b[0m\n",
      " \u001b[32m✔\u001b[0m Volume \"scalable-rag-workshop_scalable_rag_workshop_node0\"  \u001b[32mCreated\u001b[0m     \u001b[34m0.0s \u001b[0m\n",
      " \u001b[32m✔\u001b[0m Volume \"scalable-rag-workshop_scalable_rag_workshop_node1\"  \u001b[32mCreated\u001b[0m     \u001b[34m0.0s \u001b[0m\n",
      " \u001b[32m✔\u001b[0m Volume \"scalable-rag-workshop_scalable_rag_workshop_node2\"  \u001b[32mCreated\u001b[0m     \u001b[34m0.0s \u001b[0m\n",
      " \u001b[32m✔\u001b[0m Container scalable-rag-workshop-weaviate-2-1                \u001b[32mStarted\u001b[0m     \u001b[34m0.2s \u001b[0m\n",
      " \u001b[32m✔\u001b[0m Container scalable-rag-workshop-weaviate-1-1                \u001b[32mStarted\u001b[0m     \u001b[34m0.2s \u001b[0m\n",
      " \u001b[32m✔\u001b[0m Container scalable-rag-workshop-weaviate-0-1                \u001b[32mStarted\u001b[0m     \u001b[34m0.2s \u001b[0m\n",
      "\u001b[?25h"
     ]
    }
   ],
   "source": [
    "!docker-compose down && docker compose -f docker-compose-three-nodes.yml up -d"
   ]
  },
  {
   "cell_type": "code",
   "execution_count": 28,
   "id": "799e39f1",
   "metadata": {},
   "outputs": [],
   "source": [
    "import weaviate\n",
    "import os\n",
    "\n",
    "COLLECTION_NAME = \"SupportChat\"\n",
    "\n",
    "# Connect to Weaviate\n",
    "client = weaviate.connect_to_local(\n",
    "    port=8080,\n",
    "    headers={\n",
    "        # Pass inference provider keys as required (we are using Cohere today)\n",
    "        \"X-COHERE-API-KEY\": os.environ[\"COHERE_API_KEY\"],\n",
    "    },\n",
    ")"
   ]
  },
  {
   "cell_type": "code",
   "execution_count": 29,
   "id": "6cacd547",
   "metadata": {},
   "outputs": [],
   "source": [
    "# Delete existing collection if it exists\n",
    "client.collections.delete(COLLECTION_NAME)"
   ]
  },
  {
   "cell_type": "code",
   "execution_count": 30,
   "id": "1728fa94",
   "metadata": {},
   "outputs": [
    {
     "data": {
      "text/plain": [
       "<weaviate.collections.collection.sync.Collection at 0x169dd6ed0>"
      ]
     },
     "execution_count": 30,
     "metadata": {},
     "output_type": "execute_result"
    }
   ],
   "source": [
    "from weaviate.classes.config import Property, DataType, Configure\n",
    "\n",
    "client.collections.create(\n",
    "    name=COLLECTION_NAME,\n",
    "    properties=[\n",
    "        Property(name=\"text\", data_type=DataType.TEXT),\n",
    "        Property(name=\"dialogue_id\", data_type=DataType.INT),\n",
    "        Property(name=\"company_author\", data_type=DataType.TEXT),\n",
    "        Property(name=\"created_at\", data_type=DataType.DATE),\n",
    "    ],\n",
    "    vectorizer_config=[\n",
    "        Configure.NamedVectors.text2vec_cohere(\n",
    "            name=\"text_with_metadata\",\n",
    "            source_properties=[\"text\", \"company_author\"],\n",
    "            vector_index_config=Configure.VectorIndex.hnsw(),\n",
    "            model=\"embed-multilingual-light-v3.0\"\n",
    "        ),\n",
    "    ],\n",
    "    generative_config=Configure.Generative.cohere(model=\"command-r\"),\n",
    ")"
   ]
  },
  {
   "cell_type": "code",
   "execution_count": 31,
   "id": "451cd3f4",
   "metadata": {},
   "outputs": [
    {
     "name": "stderr",
     "output_type": "stream",
     "text": [
      "Importing to Weaviate: 100000it [00:37, 2647.86it/s]"
     ]
    },
    {
     "name": "stdout",
     "output_type": "stream",
     "text": [
      "🎉 Import completed! 100000 objects imported.\n",
      "✅ All objects imported successfully!\n"
     ]
    },
    {
     "name": "stderr",
     "output_type": "stream",
     "text": [
      "\n"
     ]
    }
   ],
   "source": [
    "from tqdm import tqdm\n",
    "\n",
    "file_path = \"data/twitter_customer_support.h5\"\n",
    "\n",
    "chats = client.collections.get(COLLECTION_NAME)\n",
    "\n",
    "with chats.batch.fixed_size(batch_size=200) as batch:\n",
    "    for item in tqdm(get_support_data(file_path), desc=\"Importing to Weaviate\"):\n",
    "        batch.add_object(\n",
    "            uuid=item[\"uuid\"],\n",
    "            properties=item[\"properties\"],\n",
    "            vector=item[\"vector\"]\n",
    "        )\n",
    "\n",
    "print(f\"🎉 Import completed! {len(chats)} objects imported.\")\n",
    "\n",
    "# Handle any errors\n",
    "if len(chats.batch.failed_objects) > 0:\n",
    "    print(\"⚠️  Some objects failed to import:\")\n",
    "    print(f\"   Failed: {len(chats.batch.failed_objects)} objects\")\n",
    "    print(\"   First few errors:\", chats.batch.failed_objects[:3])\n",
    "else:\n",
    "    print(\"✅ All objects imported successfully!\")"
   ]
  },
  {
   "cell_type": "markdown",
   "id": "95b6f68a",
   "metadata": {},
   "source": [
    "## Replication setup"
   ]
  },
  {
   "cell_type": "code",
   "execution_count": 32,
   "id": "ede3a57e",
   "metadata": {},
   "outputs": [],
   "source": [
    "# Delete existing collection if it exists\n",
    "client.collections.delete(COLLECTION_NAME)"
   ]
  },
  {
   "cell_type": "code",
   "execution_count": 33,
   "id": "bf6422c0",
   "metadata": {},
   "outputs": [
    {
     "data": {
      "text/plain": [
       "<weaviate.collections.collection.sync.Collection at 0x11c1fc390>"
      ]
     },
     "execution_count": 33,
     "metadata": {},
     "output_type": "execute_result"
    }
   ],
   "source": [
    "from weaviate.classes.config import Property, DataType, Configure\n",
    "\n",
    "client.collections.create(\n",
    "    name=COLLECTION_NAME,\n",
    "    properties=[\n",
    "        Property(name=\"text\", data_type=DataType.TEXT),\n",
    "        Property(name=\"dialogue_id\", data_type=DataType.INT),\n",
    "        Property(name=\"company_author\", data_type=DataType.TEXT),\n",
    "        Property(name=\"created_at\", data_type=DataType.DATE),\n",
    "    ],\n",
    "    vectorizer_config=[\n",
    "        Configure.NamedVectors.text2vec_cohere(\n",
    "            name=\"text_with_metadata\",\n",
    "            source_properties=[\"text\", \"company_author\"],\n",
    "            vector_index_config=Configure.VectorIndex.hnsw(),\n",
    "            model=\"embed-multilingual-light-v3.0\"\n",
    "        ),\n",
    "    ],\n",
    "    generative_config=Configure.Generative.cohere(model=\"command-r\"),\n",
    "    replication_config=Configure.replication(factor=3)\n",
    ")"
   ]
  },
  {
   "cell_type": "code",
   "execution_count": 34,
   "id": "8811c27b",
   "metadata": {},
   "outputs": [
    {
     "name": "stderr",
     "output_type": "stream",
     "text": [
      "Importing to Weaviate: 100000it [00:58, 1705.21it/s]"
     ]
    },
    {
     "name": "stdout",
     "output_type": "stream",
     "text": [
      "🎉 Import completed! 100000 objects imported.\n",
      "✅ All objects imported successfully!\n"
     ]
    },
    {
     "name": "stderr",
     "output_type": "stream",
     "text": [
      "\n"
     ]
    }
   ],
   "source": [
    "from tqdm import tqdm\n",
    "\n",
    "file_path = \"data/twitter_customer_support.h5\"\n",
    "\n",
    "chats = client.collections.get(COLLECTION_NAME)\n",
    "\n",
    "with chats.batch.fixed_size(batch_size=200) as batch:\n",
    "    for item in tqdm(get_support_data(file_path), desc=\"Importing to Weaviate\"):\n",
    "        batch.add_object(\n",
    "            uuid=item[\"uuid\"],\n",
    "            properties=item[\"properties\"],\n",
    "            vector=item[\"vector\"]\n",
    "        )\n",
    "\n",
    "print(f\"🎉 Import completed! {len(chats)} objects imported.\")\n",
    "\n",
    "# Handle any errors\n",
    "if len(chats.batch.failed_objects) > 0:\n",
    "    print(\"⚠️  Some objects failed to import:\")\n",
    "    print(f\"   Failed: {len(chats.batch.failed_objects)} objects\")\n",
    "    print(\"   First few errors:\", chats.batch.failed_objects[:3])\n",
    "else:\n",
    "    print(\"✅ All objects imported successfully!\")"
   ]
  },
  {
   "cell_type": "markdown",
   "id": "70f48280",
   "metadata": {},
   "source": []
  }
 ],
 "metadata": {
  "kernelspec": {
   "display_name": ".venv",
   "language": "python",
   "name": "python3"
  },
  "language_info": {
   "codemirror_mode": {
    "name": "ipython",
    "version": 3
   },
   "file_extension": ".py",
   "mimetype": "text/x-python",
   "name": "python",
   "nbconvert_exporter": "python",
   "pygments_lexer": "ipython3",
   "version": "3.11.9"
  }
 },
 "nbformat": 4,
 "nbformat_minor": 5
}
